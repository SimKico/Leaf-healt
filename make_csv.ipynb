{
  "nbformat": 4,
  "nbformat_minor": 0,
  "metadata": {
    "colab": {
      "name": "Untitled7.ipynb",
      "provenance": [],
      "collapsed_sections": []
    },
    "kernelspec": {
      "name": "python3",
      "display_name": "Python 3"
    },
    "language_info": {
      "name": "python"
    }
  },
  "cells": [
    {
      "cell_type": "code",
      "metadata": {
        "colab": {
          "base_uri": "https://localhost:8080/"
        },
        "id": "p9j3gBB5TQux",
        "outputId": "12516313-ddbc-47c3-ea78-7569faf24d68"
      },
      "source": [
        "pip install mahotas"
      ],
      "execution_count": null,
      "outputs": [
        {
          "output_type": "stream",
          "text": [
            "Requirement already satisfied: mahotas in /usr/local/lib/python3.7/dist-packages (1.4.11)\n",
            "Requirement already satisfied: numpy in /usr/local/lib/python3.7/dist-packages (from mahotas) (1.19.5)\n"
          ],
          "name": "stdout"
        }
      ]
    },
    {
      "cell_type": "code",
      "metadata": {
        "id": "dPIvs7aEWGMu"
      },
      "source": [
        "\n",
        "#-----------------------------------\n",
        "# GLOBAL FEATURE EXTRACTION\n",
        "#-----------------------------------\n",
        "from sklearn.preprocessing import LabelEncoder\n",
        "from sklearn.preprocessing import MinMaxScaler\n",
        "import numpy as np\n",
        "import pandas as pd\n",
        "import mahotas \n",
        "import cv2\n",
        "import os\n",
        "import h5py\n",
        "\n",
        "import matplotlib.pyplot as plt"
      ],
      "execution_count": 299,
      "outputs": []
    },
    {
      "cell_type": "code",
      "metadata": {
        "colab": {
          "base_uri": "https://localhost:8080/"
        },
        "id": "9Ud9NQV6DJt1",
        "outputId": "fbece5b1-c4fc-4292-880c-21b1b7d04c3d"
      },
      "source": [
        "from google.colab import drive\n",
        "drive.mount('/content/drive')"
      ],
      "execution_count": 300,
      "outputs": [
        {
          "output_type": "stream",
          "text": [
            "Drive already mounted at /content/drive; to attempt to forcibly remount, call drive.mount(\"/content/drive\", force_remount=True).\n"
          ],
          "name": "stdout"
        }
      ]
    },
    {
      "cell_type": "code",
      "metadata": {
        "id": "N0eqCvNhDKns"
      },
      "source": [
        "!unzip -uq \"/content/drive/My Drive/data.zip\" -d \"/content/drive/My Drive/PATH_TO_OUTPUT\""
      ],
      "execution_count": 301,
      "outputs": []
    },
    {
      "cell_type": "code",
      "metadata": {
        "id": "Xe1FjnSMVTtM"
      },
      "source": [
        "# get the training labels\n",
        "train_path = \"/content/drive/My Drive/PATH_TO_OUTPUT/data\"\n",
        "train_labels = os.listdir(train_path)\n",
        "images_per_class       = 8 #change later\n",
        "fixed_size             = tuple((256, 256))\n",
        "bins                   = 8"
      ],
      "execution_count": 302,
      "outputs": []
    },
    {
      "cell_type": "code",
      "metadata": {
        "colab": {
          "base_uri": "https://localhost:8080/"
        },
        "id": "ptJnlZ2uN8Vc",
        "outputId": "f70723a9-07a6-4151-b790-c8c42ff8836d"
      },
      "source": [
        "train_labels"
      ],
      "execution_count": 303,
      "outputs": [
        {
          "output_type": "execute_result",
          "data": {
            "text/plain": [
              "['Black_rot', 'Esca', 'Healthy', 'Leaf_blight']"
            ]
          },
          "metadata": {
            "tags": []
          },
          "execution_count": 303
        }
      ]
    },
    {
      "cell_type": "code",
      "metadata": {
        "id": "BfaVRiboaNsz"
      },
      "source": [
        "# Converting each image to RGB from BGR format\n",
        "\n",
        "def rgb_bgr(image):\n",
        "    rgb_img = cv2.cvtColor(image, cv2.COLOR_BGR2RGB)\n",
        "    return rgb_img"
      ],
      "execution_count": 304,
      "outputs": []
    },
    {
      "cell_type": "code",
      "metadata": {
        "id": "puQE3Mr-aQFa"
      },
      "source": [
        "# Conversion to HSV image format from RGB\n",
        "\n",
        "def bgr_hsv(rgb_img):\n",
        "    hsv_img = cv2.cvtColor(rgb_img, cv2.COLOR_RGB2HSV)\n",
        "    return hsv_img"
      ],
      "execution_count": 189,
      "outputs": []
    },
    {
      "cell_type": "code",
      "metadata": {
        "id": "zDa9lrZ4aRBK"
      },
      "source": [
        "# image segmentation\n",
        "\n",
        "# for extraction of green and brown color\n",
        "\n",
        "\n",
        "def img_segmentation(rgb_img,hsv_img):\n",
        "    lower_green = np.array([25,0,20])\n",
        "    upper_green = np.array([100,255,255])\n",
        "    healthy_mask = cv2.inRange(hsv_img, lower_green, upper_green)\n",
        "    result = cv2.bitwise_and(rgb_img,rgb_img, mask=healthy_mask)\n",
        "    lower_brown = np.array([10,0,10])\n",
        "    upper_brown = np.array([30,255,255])\n",
        "    disease_mask = cv2.inRange(hsv_img, lower_brown, upper_brown)\n",
        "    disease_result = cv2.bitwise_and(rgb_img, rgb_img, mask=disease_mask)\n",
        "    final_mask = healthy_mask + disease_mask\n",
        "    final_result = cv2.bitwise_and(rgb_img, rgb_img, mask=final_mask)\n",
        "    return final_result"
      ],
      "execution_count": 190,
      "outputs": []
    },
    {
      "cell_type": "code",
      "metadata": {
        "id": "Xk3x5p1GaSqS"
      },
      "source": [
        "# feature-descriptor-1: Hu Moments\n",
        "def fd_hu_moments(image):\n",
        "    image = cv2.cvtColor(image, cv2.COLOR_BGR2GRAY)\n",
        "    feature = cv2.HuMoments(cv2.moments(image)).flatten()\n",
        "    return feature"
      ],
      "execution_count": 191,
      "outputs": []
    },
    {
      "cell_type": "code",
      "metadata": {
        "id": "HGbkh0v3aUW7"
      },
      "source": [
        "# feature-descriptor-2: Haralick Texture\n",
        "def fd_haralick(image):\n",
        "    gray = cv2.cvtColor(image, cv2.COLOR_BGR2GRAY)\n",
        "    haralick = mahotas.features.haralick(gray).mean(axis=0)\n",
        "    return haralick"
      ],
      "execution_count": 192,
      "outputs": []
    },
    {
      "cell_type": "code",
      "metadata": {
        "id": "rhWEGYGgaV4M"
      },
      "source": [
        "# feature-descriptor-3: Color Histogram\n",
        "def fd_histogram(image, mask=None):\n",
        "    image = cv2.cvtColor(image, cv2.COLOR_BGR2HSV)\n",
        "    hist  = cv2.calcHist([image], [0, 1, 2], None, [bins, bins, bins], [0, 256, 0, 256, 0, 256])\n",
        "    cv2.normalize(hist, hist)\n",
        "    return hist.flatten()"
      ],
      "execution_count": 193,
      "outputs": []
    },
    {
      "cell_type": "code",
      "metadata": {
        "id": "TSs8ODVdWeHW"
      },
      "source": [
        "#Finding the correct leaf contour from the list of contours\n",
        "def find_contour(cnts):\n",
        "    contains = []\n",
        "    y_ri,x_ri = n,m\n",
        "    for cc in cnts:\n",
        "        yn = cv2.pointPolygonTest(cc,(x_ri//2,y_ri//2),False)\n",
        "        contains.append(yn)\n",
        "        print(contains[0])\n",
        "    val = [contains.index(temp) for temp in contains if temp>0]\n",
        "   \n",
        "    return val[0]\n"
      ],
      "execution_count": 305,
      "outputs": []
    },
    {
      "cell_type": "code",
      "metadata": {
        "id": "jwSVow6xVgil"
      },
      "source": [
        "def create_dataset():\n",
        "  names = ['isHealthy','mean_r','mean_g','mean_b','stddev_r','stddev_g','stddev_b', \\\n",
        "              'contrast','correlation','inverse_difference_moments','entropy']\n",
        "  df = pd.DataFrame([], columns=names)\n",
        "  for training_name in train_labels:\n",
        "    \n",
        "    # join the training data path and each species training folder\n",
        "    dir = os.path.join(train_path, training_name)\n",
        "\n",
        "    # get the current training label\n",
        "    current_label = training_name\n",
        "\n",
        "    # loop over the images in each sub-folder\n",
        "    for x in range(1,images_per_class+1):\n",
        "        # get the image file name\n",
        "        file = dir + \"/image (\" + str(x) + \")\"+ \".JPG\"\n",
        "        print(file)\n",
        "        # file = dir + \"/image (\" + \"84\" + \")\"+ \".JPG\"\n",
        "       \n",
        "        # read the image and resize it to a fixed-size\n",
        "        img = cv2.imread(file)\n",
        "        img = cv2.resize(img, fixed_size)\n",
        "\n",
        "        # #remove backgroud\n",
        "        # img = cv2.cvtColor(img, cv2.COLOR_BGR2RGB) \n",
        "        # gs = cv2.cvtColor(img,cv2.COLOR_RGB2GRAY)\n",
        "        # blur = cv2.GaussianBlur(gs, (25,25),0)\n",
        "        # ret_otsu,im_bw_otsu = cv2.threshold(blur,0,255,cv2.THRESH_BINARY_INV+cv2.THRESH_OTSU)\n",
        "        # kernel = np.ones((20,20),np.uint8)\n",
        "        # closing = cv2.morphologyEx(im_bw_otsu, cv2.MORPH_CLOSE, kernel)\n",
        "\n",
        "        # contours, hierarchy = cv2.findContours(closing,cv2.RETR_TREE,cv2.CHAIN_APPROX_SIMPLE)\n",
        "        # cnt = contours[0]\n",
        "        # plottedContour = cv2.drawContours(gs,contours,-1,(0,255,0),2)\n",
        "        # n = img.shape[0]\n",
        "        # m = img.shape[1]\n",
        "        # print('shape ' + str(n) + ' ' + str(m))\n",
        "        # black_img = np.empty([n,m,3],dtype=np.uint8)\n",
        "        # black_img.fill(0)\n",
        "        \n",
        "        # index = find_contour(contours)\n",
        "        # cnt = contours[index]\n",
        "        # mask = cv2.drawContours(black_img, [cnt] , 0, (255,255,255), -1)  \n",
        "    \n",
        "        # maskedImg = cv2.bitwise_and(img, mask)\n",
        "\n",
        "        # white_pix = [255,255,255]\n",
        "        # black_pix = [0,0,0]\n",
        "        # final_img = maskedImg\n",
        "        # h,w,channels = final_img.shape\n",
        "        # for x in range(0,w):\n",
        "        #     for y in range(0,h):\n",
        "        #         channels_xy = final_img[y,x]\n",
        "        #         if all(channels_xy == black_pix):    \n",
        "        #             final_img[y,x] = white_pix\n",
        "    \n",
        "        #Preprocessing\n",
        "        img = cv2.cvtColor(img, cv2.COLOR_BGR2RGB)\n",
        "        gs = cv2.cvtColor(img,cv2.COLOR_RGB2GRAY)\n",
        "        blur = cv2.GaussianBlur(gs, (25,25),0)\n",
        "        ret_otsu,im_bw_otsu = cv2.threshold(blur,0,255,cv2.THRESH_BINARY_INV+cv2.THRESH_OTSU)\n",
        "        kernel = np.ones((50,50),np.uint8)\n",
        "        closing = cv2.morphologyEx(im_bw_otsu, cv2.MORPH_CLOSE, kernel)\n",
        "\n",
        "        final_img = img\n",
        "\n",
        "        #get features\n",
        "        #Color features\n",
        "        red_channel = final_img[:,:,0]\n",
        "        green_channel = final_img[:,:,1]\n",
        "        blue_channel = final_img[:,:,2]\n",
        "        blue_channel[blue_channel == 255] = 0\n",
        "        green_channel[green_channel == 255] = 0\n",
        "        red_channel[red_channel == 255] = 0\n",
        "        \n",
        "        red_mean = np.mean(red_channel)\n",
        "        green_mean = np.mean(green_channel)\n",
        "        blue_mean = np.mean(blue_channel)\n",
        "        \n",
        "        red_std = np.std(red_channel)\n",
        "        green_std = np.std(green_channel)\n",
        "        blue_std = np.std(blue_channel)\n",
        "        \n",
        "        #Texture features\n",
        "        textures = mahotas.features.haralick(gs)\n",
        "        ht_mean = textures.mean(axis=0)\n",
        "        contrast = ht_mean[1]\n",
        "        correlation = ht_mean[2]\n",
        "        inverse_diff_moments = ht_mean[4]\n",
        "        entropy = ht_mean[8]\n",
        "        #write in csv\n",
        "\n",
        "        vector = [training_name ,red_mean,green_mean,blue_mean,red_std,green_std,blue_std,\\\n",
        "                  contrast,correlation,inverse_diff_moments,entropy ]\n",
        "        df_temp = pd.DataFrame([vector],columns=names)\n",
        "        df = df.append(df_temp)\n",
        "    print(\"[STATUS] processed folder: {}\".format(current_label))\n",
        "\n",
        "  print(\"[STATUS] completed Global Feature Extraction...\")\n",
        "\n",
        "  return df"
      ],
      "execution_count": 310,
      "outputs": []
    },
    {
      "cell_type": "code",
      "metadata": {
        "colab": {
          "base_uri": "https://localhost:8080/"
        },
        "id": "7cJSRzBMlJ3I",
        "outputId": "a81f47bf-1781-4a50-fd33-5f47d753d67f"
      },
      "source": [
        "\n",
        "dataset = create_dataset()\n",
        "dataset.shape\n",
        "dataset.to_csv(\"leaves.csv\")\n",
        "print(\"[STATUS] completed Global Feature Extraction...\")"
      ],
      "execution_count": 311,
      "outputs": [
        {
          "output_type": "stream",
          "text": [
            "/content/drive/My Drive/PATH_TO_OUTPUT/data/Black_rot/image (1).JPG\n",
            "/content/drive/My Drive/PATH_TO_OUTPUT/data/Black_rot/image (2).JPG\n",
            "/content/drive/My Drive/PATH_TO_OUTPUT/data/Black_rot/image (3).JPG\n",
            "/content/drive/My Drive/PATH_TO_OUTPUT/data/Black_rot/image (4).JPG\n",
            "/content/drive/My Drive/PATH_TO_OUTPUT/data/Black_rot/image (5).JPG\n",
            "/content/drive/My Drive/PATH_TO_OUTPUT/data/Black_rot/image (6).JPG\n",
            "/content/drive/My Drive/PATH_TO_OUTPUT/data/Black_rot/image (7).JPG\n",
            "/content/drive/My Drive/PATH_TO_OUTPUT/data/Black_rot/image (8).JPG\n",
            "[STATUS] processed folder: Black_rot\n",
            "/content/drive/My Drive/PATH_TO_OUTPUT/data/Esca/image (1).JPG\n",
            "/content/drive/My Drive/PATH_TO_OUTPUT/data/Esca/image (2).JPG\n",
            "/content/drive/My Drive/PATH_TO_OUTPUT/data/Esca/image (3).JPG\n",
            "/content/drive/My Drive/PATH_TO_OUTPUT/data/Esca/image (4).JPG\n",
            "/content/drive/My Drive/PATH_TO_OUTPUT/data/Esca/image (5).JPG\n",
            "/content/drive/My Drive/PATH_TO_OUTPUT/data/Esca/image (6).JPG\n",
            "/content/drive/My Drive/PATH_TO_OUTPUT/data/Esca/image (7).JPG\n",
            "/content/drive/My Drive/PATH_TO_OUTPUT/data/Esca/image (8).JPG\n",
            "[STATUS] processed folder: Esca\n",
            "/content/drive/My Drive/PATH_TO_OUTPUT/data/Healthy/image (1).JPG\n",
            "/content/drive/My Drive/PATH_TO_OUTPUT/data/Healthy/image (2).JPG\n",
            "/content/drive/My Drive/PATH_TO_OUTPUT/data/Healthy/image (3).JPG\n",
            "/content/drive/My Drive/PATH_TO_OUTPUT/data/Healthy/image (4).JPG\n",
            "/content/drive/My Drive/PATH_TO_OUTPUT/data/Healthy/image (5).JPG\n",
            "/content/drive/My Drive/PATH_TO_OUTPUT/data/Healthy/image (6).JPG\n",
            "/content/drive/My Drive/PATH_TO_OUTPUT/data/Healthy/image (7).JPG\n",
            "/content/drive/My Drive/PATH_TO_OUTPUT/data/Healthy/image (8).JPG\n",
            "[STATUS] processed folder: Healthy\n",
            "/content/drive/My Drive/PATH_TO_OUTPUT/data/Leaf_blight/image (1).JPG\n",
            "/content/drive/My Drive/PATH_TO_OUTPUT/data/Leaf_blight/image (2).JPG\n",
            "/content/drive/My Drive/PATH_TO_OUTPUT/data/Leaf_blight/image (3).JPG\n",
            "/content/drive/My Drive/PATH_TO_OUTPUT/data/Leaf_blight/image (4).JPG\n",
            "/content/drive/My Drive/PATH_TO_OUTPUT/data/Leaf_blight/image (5).JPG\n",
            "/content/drive/My Drive/PATH_TO_OUTPUT/data/Leaf_blight/image (6).JPG\n",
            "/content/drive/My Drive/PATH_TO_OUTPUT/data/Leaf_blight/image (7).JPG\n",
            "/content/drive/My Drive/PATH_TO_OUTPUT/data/Leaf_blight/image (8).JPG\n",
            "[STATUS] processed folder: Leaf_blight\n",
            "[STATUS] completed Global Feature Extraction...\n",
            "[STATUS] completed Global Feature Extraction...\n"
          ],
          "name": "stdout"
        }
      ]
    }
  ]
}