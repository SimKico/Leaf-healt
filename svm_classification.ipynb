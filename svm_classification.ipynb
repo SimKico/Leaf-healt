{
  "nbformat": 4,
  "nbformat_minor": 0,
  "metadata": {
    "colab": {
      "name": "svm_classification.ipynb",
      "provenance": [],
      "collapsed_sections": []
    },
    "kernelspec": {
      "name": "python3",
      "display_name": "Python 3"
    },
    "language_info": {
      "name": "python"
    }
  },
  "cells": [
    {
      "cell_type": "code",
      "metadata": {
        "colab": {
          "base_uri": "https://localhost:8080/"
        },
        "id": "NWFaCrJUhzXw",
        "outputId": "c5c1a57e-4f68-4051-8497-a7438c3c1eaf"
      },
      "source": [
        "pip install mahotas"
      ],
      "execution_count": 1,
      "outputs": [
        {
          "output_type": "stream",
          "text": [
            "Collecting mahotas\n",
            "\u001b[?25l  Downloading https://files.pythonhosted.org/packages/19/ad/553b246b0a35dccc3ed58dc8889a67124bf5ab858e9c6b7255d56086e70c/mahotas-1.4.11-cp37-cp37m-manylinux2010_x86_64.whl (5.7MB)\n",
            "\u001b[K     |████████████████████████████████| 5.7MB 8.2MB/s \n",
            "\u001b[?25hRequirement already satisfied: numpy in /usr/local/lib/python3.7/dist-packages (from mahotas) (1.19.5)\n",
            "Installing collected packages: mahotas\n",
            "Successfully installed mahotas-1.4.11\n"
          ],
          "name": "stdout"
        }
      ]
    },
    {
      "cell_type": "code",
      "metadata": {
        "id": "xMmKRZYL4EDh"
      },
      "source": [
        "import numpy as np\n",
        "import pandas as pd\n",
        "import os\n",
        "import string\n",
        "import matplotlib.pyplot as plt\n",
        "from sklearn.utils import shuffle\n",
        "import mahotas \n",
        "import cv2\n",
        "import os\n",
        "import sys"
      ],
      "execution_count": 2,
      "outputs": []
    },
    {
      "cell_type": "code",
      "metadata": {
        "id": "ESK7sYx_4ND-"
      },
      "source": [
        "dataset = pd.read_csv(\"apple_reduced.csv\")"
      ],
      "execution_count": 81,
      "outputs": []
    },
    {
      "cell_type": "code",
      "metadata": {
        "id": "C8-f1feu4QlT",
        "colab": {
          "base_uri": "https://localhost:8080/",
          "height": 238
        },
        "outputId": "bd60dc93-f411-4d76-ee92-ee7ede8c641d"
      },
      "source": [
        "dataset.head(5)"
      ],
      "execution_count": 82,
      "outputs": [
        {
          "output_type": "execute_result",
          "data": {
            "text/html": [
              "<div>\n",
              "<style scoped>\n",
              "    .dataframe tbody tr th:only-of-type {\n",
              "        vertical-align: middle;\n",
              "    }\n",
              "\n",
              "    .dataframe tbody tr th {\n",
              "        vertical-align: top;\n",
              "    }\n",
              "\n",
              "    .dataframe thead th {\n",
              "        text-align: right;\n",
              "    }\n",
              "</style>\n",
              "<table border=\"1\" class=\"dataframe\">\n",
              "  <thead>\n",
              "    <tr style=\"text-align: right;\">\n",
              "      <th></th>\n",
              "      <th>Unnamed: 0</th>\n",
              "      <th>isHealthy</th>\n",
              "      <th>mean_r</th>\n",
              "      <th>mean_g</th>\n",
              "      <th>mean_b</th>\n",
              "      <th>stddev_r</th>\n",
              "      <th>stddev_g</th>\n",
              "      <th>stddev_b</th>\n",
              "      <th>contrast</th>\n",
              "      <th>correlation</th>\n",
              "      <th>inverse_difference_moments</th>\n",
              "      <th>entropy</th>\n",
              "    </tr>\n",
              "  </thead>\n",
              "  <tbody>\n",
              "    <tr>\n",
              "      <th>0</th>\n",
              "      <td>0</td>\n",
              "      <td>Apple___Black_rot</td>\n",
              "      <td>111.653564</td>\n",
              "      <td>118.266891</td>\n",
              "      <td>103.696976</td>\n",
              "      <td>53.175653</td>\n",
              "      <td>37.329550</td>\n",
              "      <td>51.742591</td>\n",
              "      <td>642.442633</td>\n",
              "      <td>0.828300</td>\n",
              "      <td>0.060938</td>\n",
              "      <td>13.358900</td>\n",
              "    </tr>\n",
              "    <tr>\n",
              "      <th>1</th>\n",
              "      <td>0</td>\n",
              "      <td>Apple___Black_rot</td>\n",
              "      <td>121.940063</td>\n",
              "      <td>122.818069</td>\n",
              "      <td>127.231995</td>\n",
              "      <td>50.305909</td>\n",
              "      <td>47.988402</td>\n",
              "      <td>52.886407</td>\n",
              "      <td>546.947095</td>\n",
              "      <td>0.884752</td>\n",
              "      <td>0.149001</td>\n",
              "      <td>12.906667</td>\n",
              "    </tr>\n",
              "    <tr>\n",
              "      <th>2</th>\n",
              "      <td>0</td>\n",
              "      <td>Apple___Black_rot</td>\n",
              "      <td>112.254074</td>\n",
              "      <td>123.337952</td>\n",
              "      <td>108.476837</td>\n",
              "      <td>60.731182</td>\n",
              "      <td>45.710183</td>\n",
              "      <td>72.154916</td>\n",
              "      <td>921.051755</td>\n",
              "      <td>0.827812</td>\n",
              "      <td>0.071665</td>\n",
              "      <td>13.840327</td>\n",
              "    </tr>\n",
              "    <tr>\n",
              "      <th>3</th>\n",
              "      <td>0</td>\n",
              "      <td>Apple___Black_rot</td>\n",
              "      <td>117.993652</td>\n",
              "      <td>120.947250</td>\n",
              "      <td>120.620193</td>\n",
              "      <td>54.241066</td>\n",
              "      <td>42.104179</td>\n",
              "      <td>62.929841</td>\n",
              "      <td>741.525799</td>\n",
              "      <td>0.834933</td>\n",
              "      <td>0.115369</td>\n",
              "      <td>13.116848</td>\n",
              "    </tr>\n",
              "    <tr>\n",
              "      <th>4</th>\n",
              "      <td>0</td>\n",
              "      <td>Apple___Black_rot</td>\n",
              "      <td>114.553238</td>\n",
              "      <td>125.674103</td>\n",
              "      <td>102.157394</td>\n",
              "      <td>50.405860</td>\n",
              "      <td>41.137000</td>\n",
              "      <td>58.815783</td>\n",
              "      <td>603.232223</td>\n",
              "      <td>0.829814</td>\n",
              "      <td>0.104557</td>\n",
              "      <td>13.271357</td>\n",
              "    </tr>\n",
              "  </tbody>\n",
              "</table>\n",
              "</div>"
            ],
            "text/plain": [
              "   Unnamed: 0          isHealthy  ...  inverse_difference_moments    entropy\n",
              "0           0  Apple___Black_rot  ...                    0.060938  13.358900\n",
              "1           0  Apple___Black_rot  ...                    0.149001  12.906667\n",
              "2           0  Apple___Black_rot  ...                    0.071665  13.840327\n",
              "3           0  Apple___Black_rot  ...                    0.115369  13.116848\n",
              "4           0  Apple___Black_rot  ...                    0.104557  13.271357\n",
              "\n",
              "[5 rows x 12 columns]"
            ]
          },
          "metadata": {
            "tags": []
          },
          "execution_count": 82
        }
      ]
    },
    {
      "cell_type": "code",
      "metadata": {
        "id": "MthlGbbV3ZQN"
      },
      "source": [
        "dataset = shuffle(dataset)"
      ],
      "execution_count": 83,
      "outputs": []
    },
    {
      "cell_type": "code",
      "metadata": {
        "id": "WQMyp5W5aH7E"
      },
      "source": [
        "#import seaborn as sns\n",
        "#sns.pairplot(dataset,hue='isHealthy',palette='Dark2')"
      ],
      "execution_count": null,
      "outputs": []
    },
    {
      "cell_type": "code",
      "metadata": {
        "id": "gyck-aM346kC"
      },
      "source": [
        "#Healthy\n",
        "health_list = []\n",
        "for d in dataset['isHealthy']:\n",
        "  if \"Apple___healthy\" in d:\n",
        "    health_list.append(0)\n",
        "  else:\n",
        "    health_list.append(1)"
      ],
      "execution_count": 84,
      "outputs": []
    },
    {
      "cell_type": "code",
      "metadata": {
        "colab": {
          "base_uri": "https://localhost:8080/"
        },
        "id": "AtYRByCj52KK",
        "outputId": "3f18e38d-40b2-421e-f565-6da3a2c49bc8"
      },
      "source": [
        "#np.set_printoptions(threshold=sys.maxsize)\n",
        "y = np.array(health_list)\n",
        "print(y)"
      ],
      "execution_count": 85,
      "outputs": [
        {
          "output_type": "stream",
          "text": [
            "[0 0 1 ... 1 0 1]\n"
          ],
          "name": "stdout"
        }
      ]
    },
    {
      "cell_type": "code",
      "metadata": {
        "id": "d0MY3fqe6C-b"
      },
      "source": [
        "X = dataset.iloc[:,2:]"
      ],
      "execution_count": 86,
      "outputs": []
    },
    {
      "cell_type": "code",
      "metadata": {
        "colab": {
          "base_uri": "https://localhost:8080/",
          "height": 202
        },
        "id": "TQd9BO9l6F57",
        "outputId": "98fab0c9-230b-46da-ba21-45aa3e3b73b5"
      },
      "source": [
        "X.head(5)"
      ],
      "execution_count": 87,
      "outputs": [
        {
          "output_type": "execute_result",
          "data": {
            "text/html": [
              "<div>\n",
              "<style scoped>\n",
              "    .dataframe tbody tr th:only-of-type {\n",
              "        vertical-align: middle;\n",
              "    }\n",
              "\n",
              "    .dataframe tbody tr th {\n",
              "        vertical-align: top;\n",
              "    }\n",
              "\n",
              "    .dataframe thead th {\n",
              "        text-align: right;\n",
              "    }\n",
              "</style>\n",
              "<table border=\"1\" class=\"dataframe\">\n",
              "  <thead>\n",
              "    <tr style=\"text-align: right;\">\n",
              "      <th></th>\n",
              "      <th>mean_r</th>\n",
              "      <th>mean_g</th>\n",
              "      <th>mean_b</th>\n",
              "      <th>stddev_r</th>\n",
              "      <th>stddev_g</th>\n",
              "      <th>stddev_b</th>\n",
              "      <th>contrast</th>\n",
              "      <th>correlation</th>\n",
              "      <th>inverse_difference_moments</th>\n",
              "      <th>entropy</th>\n",
              "    </tr>\n",
              "  </thead>\n",
              "  <tbody>\n",
              "    <tr>\n",
              "      <th>1253</th>\n",
              "      <td>98.268692</td>\n",
              "      <td>97.162643</td>\n",
              "      <td>87.621689</td>\n",
              "      <td>53.542651</td>\n",
              "      <td>44.999872</td>\n",
              "      <td>47.217522</td>\n",
              "      <td>1005.867826</td>\n",
              "      <td>0.775891</td>\n",
              "      <td>0.070709</td>\n",
              "      <td>13.989260</td>\n",
              "    </tr>\n",
              "    <tr>\n",
              "      <th>1491</th>\n",
              "      <td>141.188065</td>\n",
              "      <td>144.784500</td>\n",
              "      <td>136.037262</td>\n",
              "      <td>57.595099</td>\n",
              "      <td>51.472066</td>\n",
              "      <td>63.993981</td>\n",
              "      <td>773.428450</td>\n",
              "      <td>0.869039</td>\n",
              "      <td>0.111387</td>\n",
              "      <td>13.647965</td>\n",
              "    </tr>\n",
              "    <tr>\n",
              "      <th>322</th>\n",
              "      <td>122.474533</td>\n",
              "      <td>126.801819</td>\n",
              "      <td>109.467117</td>\n",
              "      <td>49.581288</td>\n",
              "      <td>34.374173</td>\n",
              "      <td>49.665314</td>\n",
              "      <td>657.940391</td>\n",
              "      <td>0.792895</td>\n",
              "      <td>0.060567</td>\n",
              "      <td>13.500670</td>\n",
              "    </tr>\n",
              "    <tr>\n",
              "      <th>2874</th>\n",
              "      <td>80.801926</td>\n",
              "      <td>104.335846</td>\n",
              "      <td>104.189957</td>\n",
              "      <td>21.814724</td>\n",
              "      <td>17.536186</td>\n",
              "      <td>36.225281</td>\n",
              "      <td>84.218762</td>\n",
              "      <td>0.880262</td>\n",
              "      <td>0.292261</td>\n",
              "      <td>10.706960</td>\n",
              "    </tr>\n",
              "    <tr>\n",
              "      <th>1587</th>\n",
              "      <td>87.671387</td>\n",
              "      <td>96.234085</td>\n",
              "      <td>94.310638</td>\n",
              "      <td>39.885200</td>\n",
              "      <td>30.411748</td>\n",
              "      <td>36.590997</td>\n",
              "      <td>147.716942</td>\n",
              "      <td>0.934764</td>\n",
              "      <td>0.152590</td>\n",
              "      <td>12.166375</td>\n",
              "    </tr>\n",
              "  </tbody>\n",
              "</table>\n",
              "</div>"
            ],
            "text/plain": [
              "          mean_r      mean_g  ...  inverse_difference_moments    entropy\n",
              "1253   98.268692   97.162643  ...                    0.070709  13.989260\n",
              "1491  141.188065  144.784500  ...                    0.111387  13.647965\n",
              "322   122.474533  126.801819  ...                    0.060567  13.500670\n",
              "2874   80.801926  104.335846  ...                    0.292261  10.706960\n",
              "1587   87.671387   96.234085  ...                    0.152590  12.166375\n",
              "\n",
              "[5 rows x 10 columns]"
            ]
          },
          "metadata": {
            "tags": []
          },
          "execution_count": 87
        }
      ]
    },
    {
      "cell_type": "code",
      "metadata": {
        "id": "TxwglSPP6KP9"
      },
      "source": [
        "from sklearn.model_selection import train_test_split"
      ],
      "execution_count": 88,
      "outputs": []
    },
    {
      "cell_type": "code",
      "metadata": {
        "colab": {
          "base_uri": "https://localhost:8080/"
        },
        "id": "kM43MQDH7NWO",
        "outputId": "d6e42710-cb7d-49e1-a69d-798eb6b4e618"
      },
      "source": [
        "train_ratio = 0.70\n",
        "validation_ratio = 0.10\n",
        "test_ratio = 0.20\n",
        "\n",
        "#X= shuffle(X)\n",
        "\n",
        "# test is now 20% of the initial data set\n",
        "x_train, x_test, y_train, y_test = train_test_split(X, y, test_size=test_ratio)\n",
        "\n",
        "# train is now 70% of the entire data set\n",
        "# validation is now 10% of the initial data set\n",
        "x_train,x_val,y_train ,y_val = train_test_split(x_train, y_train, test_size=validation_ratio/(train_ratio + validation_ratio)) \n",
        "#print(x_train, x_val, x_test)\n",
        "print(len(x_train), len(x_val), len(x_test))\n",
        "\n"
      ],
      "execution_count": 89,
      "outputs": [
        {
          "output_type": "stream",
          "text": [
            "2201 315 630\n"
          ],
          "name": "stdout"
        }
      ]
    },
    {
      "cell_type": "code",
      "metadata": {
        "id": "HXhz4i1k8N03"
      },
      "source": [
        "from sklearn.preprocessing import StandardScaler"
      ],
      "execution_count": 90,
      "outputs": []
    },
    {
      "cell_type": "code",
      "metadata": {
        "id": "vUvhpOCR8PYx"
      },
      "source": [
        "sc_X = StandardScaler()\n",
        "X_train = sc_X.fit(x_train)\n",
        "X_train = sc_X.transform(x_train)\n",
        "X_val = sc_X.transform(x_val)\n",
        "X_test = sc_X.transform(x_test)"
      ],
      "execution_count": 91,
      "outputs": []
    },
    {
      "cell_type": "code",
      "metadata": {
        "id": "Z0SCqmwW8b7r"
      },
      "source": [
        "from sklearn import svm\n",
        "from sklearn import metrics\n",
        "from sklearn.model_selection import GridSearchCV"
      ],
      "execution_count": 92,
      "outputs": []
    },
    {
      "cell_type": "code",
      "metadata": {
        "colab": {
          "base_uri": "https://localhost:8080/"
        },
        "id": "RJ3IhVV4_vyH",
        "outputId": "2b60439b-1626-4a27-e7e6-748b9e0605b5"
      },
      "source": [
        "# training model with different hyperparameters\n",
        "\n",
        "svm_model = svm.SVC()\n",
        "\n",
        "svm_model.fit(X_train, y_train)\n",
        "predictions = svm_model.predict(X_val)\n",
        "\n",
        "\n",
        "svm_model2 = svm.SVC(C=1, kernel='linear')\n",
        "svm_model2.fit(X_train, y_train)\n",
        "predictions2 = svm_model2.predict(X_val)\n",
        "\n",
        "\n",
        "svm_model3 = svm.SVC(C=10, gamma=0.5, kernel='rbf')\n",
        "svm_model3.fit(X_train, y_train)\n",
        "predictions3 = svm_model3.predict(X_val)\n",
        "\n",
        "print(\"Val accuracy, no hyperparameters -->\" , metrics.accuracy_score(y_val, predictions))\n",
        "print(\"Val accuracy, C=1, kernel=linear -->\" , metrics.accuracy_score(y_val, predictions2))\n",
        "print(\"Val accuracy C=10, gamma=0.5, kernel=rbf -->\" , metrics.accuracy_score(y_val, predictions3))"
      ],
      "execution_count": 93,
      "outputs": [
        {
          "output_type": "stream",
          "text": [
            "Val accuracy, no hyperparameters --> 0.9619047619047619\n",
            "Val accuracy, C=1, kernel=linear --> 0.8984126984126984\n",
            "Val accuracy C=10, gamma=0.5, kernel=rbf --> 0.9619047619047619\n"
          ],
          "name": "stdout"
        }
      ]
    },
    {
      "cell_type": "code",
      "metadata": {
        "id": "vdIweG_W9BwJ"
      },
      "source": [
        "#Tuning hyperparameters using GridSearchCV\n",
        "\n",
        "param_grid = [{'C': [0.1,1, 10, 100], 'gamma': [1,0.5,0.2,0.1,0.01,0.001],'kernel': ['rbf', 'sigmoid']},\n",
        "              {'C': [1, 10, 100, 1000], 'kernel': ['linear']}]"
      ],
      "execution_count": 94,
      "outputs": []
    },
    {
      "cell_type": "code",
      "metadata": {
        "colab": {
          "base_uri": "https://localhost:8080/"
        },
        "id": "iO_PoR929Fav",
        "outputId": "3cbb31e0-6986-47e2-c10b-11f1bdb1b539"
      },
      "source": [
        "grid = GridSearchCV(svm.SVC(),param_grid,refit=True,verbose=2, cv=None)\n",
        "grid.fit(X_train,y_train)"
      ],
      "execution_count": 95,
      "outputs": [
        {
          "output_type": "stream",
          "text": [
            "Fitting 5 folds for each of 52 candidates, totalling 260 fits\n",
            "[CV] C=0.1, gamma=1, kernel=rbf ......................................\n",
            "[CV] ....................... C=0.1, gamma=1, kernel=rbf, total=   0.1s\n",
            "[CV] C=0.1, gamma=1, kernel=rbf ......................................\n"
          ],
          "name": "stdout"
        },
        {
          "output_type": "stream",
          "text": [
            "[Parallel(n_jobs=1)]: Using backend SequentialBackend with 1 concurrent workers.\n",
            "[Parallel(n_jobs=1)]: Done   1 out of   1 | elapsed:    0.1s remaining:    0.0s\n"
          ],
          "name": "stderr"
        },
        {
          "output_type": "stream",
          "text": [
            "[CV] ....................... C=0.1, gamma=1, kernel=rbf, total=   0.1s\n",
            "[CV] C=0.1, gamma=1, kernel=rbf ......................................\n",
            "[CV] ....................... C=0.1, gamma=1, kernel=rbf, total=   0.1s\n",
            "[CV] C=0.1, gamma=1, kernel=rbf ......................................\n",
            "[CV] ....................... C=0.1, gamma=1, kernel=rbf, total=   0.1s\n",
            "[CV] C=0.1, gamma=1, kernel=rbf ......................................\n",
            "[CV] ....................... C=0.1, gamma=1, kernel=rbf, total=   0.2s\n",
            "[CV] C=0.1, gamma=1, kernel=sigmoid ..................................\n",
            "[CV] ................... C=0.1, gamma=1, kernel=sigmoid, total=   0.3s\n",
            "[CV] C=0.1, gamma=1, kernel=sigmoid ..................................\n",
            "[CV] ................... C=0.1, gamma=1, kernel=sigmoid, total=   0.2s\n",
            "[CV] C=0.1, gamma=1, kernel=sigmoid ..................................\n",
            "[CV] ................... C=0.1, gamma=1, kernel=sigmoid, total=   0.2s\n",
            "[CV] C=0.1, gamma=1, kernel=sigmoid ..................................\n",
            "[CV] ................... C=0.1, gamma=1, kernel=sigmoid, total=   0.2s\n",
            "[CV] C=0.1, gamma=1, kernel=sigmoid ..................................\n",
            "[CV] ................... C=0.1, gamma=1, kernel=sigmoid, total=   0.2s\n",
            "[CV] C=0.1, gamma=0.5, kernel=rbf ....................................\n",
            "[CV] ..................... C=0.1, gamma=0.5, kernel=rbf, total=   0.1s\n",
            "[CV] C=0.1, gamma=0.5, kernel=rbf ....................................\n",
            "[CV] ..................... C=0.1, gamma=0.5, kernel=rbf, total=   0.1s\n",
            "[CV] C=0.1, gamma=0.5, kernel=rbf ....................................\n",
            "[CV] ..................... C=0.1, gamma=0.5, kernel=rbf, total=   0.1s\n",
            "[CV] C=0.1, gamma=0.5, kernel=rbf ....................................\n",
            "[CV] ..................... C=0.1, gamma=0.5, kernel=rbf, total=   0.1s\n",
            "[CV] C=0.1, gamma=0.5, kernel=rbf ....................................\n",
            "[CV] ..................... C=0.1, gamma=0.5, kernel=rbf, total=   0.1s\n",
            "[CV] C=0.1, gamma=0.5, kernel=sigmoid ................................\n",
            "[CV] ................. C=0.1, gamma=0.5, kernel=sigmoid, total=   0.1s\n",
            "[CV] C=0.1, gamma=0.5, kernel=sigmoid ................................\n",
            "[CV] ................. C=0.1, gamma=0.5, kernel=sigmoid, total=   0.2s\n",
            "[CV] C=0.1, gamma=0.5, kernel=sigmoid ................................\n",
            "[CV] ................. C=0.1, gamma=0.5, kernel=sigmoid, total=   0.1s\n",
            "[CV] C=0.1, gamma=0.5, kernel=sigmoid ................................\n",
            "[CV] ................. C=0.1, gamma=0.5, kernel=sigmoid, total=   0.2s\n",
            "[CV] C=0.1, gamma=0.5, kernel=sigmoid ................................\n",
            "[CV] ................. C=0.1, gamma=0.5, kernel=sigmoid, total=   0.2s\n",
            "[CV] C=0.1, gamma=0.2, kernel=rbf ....................................\n",
            "[CV] ..................... C=0.1, gamma=0.2, kernel=rbf, total=   0.1s\n",
            "[CV] C=0.1, gamma=0.2, kernel=rbf ....................................\n",
            "[CV] ..................... C=0.1, gamma=0.2, kernel=rbf, total=   0.1s\n",
            "[CV] C=0.1, gamma=0.2, kernel=rbf ....................................\n",
            "[CV] ..................... C=0.1, gamma=0.2, kernel=rbf, total=   0.1s\n",
            "[CV] C=0.1, gamma=0.2, kernel=rbf ....................................\n",
            "[CV] ..................... C=0.1, gamma=0.2, kernel=rbf, total=   0.1s\n",
            "[CV] C=0.1, gamma=0.2, kernel=rbf ....................................\n",
            "[CV] ..................... C=0.1, gamma=0.2, kernel=rbf, total=   0.1s\n",
            "[CV] C=0.1, gamma=0.2, kernel=sigmoid ................................\n",
            "[CV] ................. C=0.1, gamma=0.2, kernel=sigmoid, total=   0.2s\n",
            "[CV] C=0.1, gamma=0.2, kernel=sigmoid ................................\n",
            "[CV] ................. C=0.1, gamma=0.2, kernel=sigmoid, total=   0.2s\n",
            "[CV] C=0.1, gamma=0.2, kernel=sigmoid ................................\n",
            "[CV] ................. C=0.1, gamma=0.2, kernel=sigmoid, total=   0.1s\n",
            "[CV] C=0.1, gamma=0.2, kernel=sigmoid ................................\n",
            "[CV] ................. C=0.1, gamma=0.2, kernel=sigmoid, total=   0.2s\n",
            "[CV] C=0.1, gamma=0.2, kernel=sigmoid ................................\n",
            "[CV] ................. C=0.1, gamma=0.2, kernel=sigmoid, total=   0.2s\n",
            "[CV] C=0.1, gamma=0.1, kernel=rbf ....................................\n",
            "[CV] ..................... C=0.1, gamma=0.1, kernel=rbf, total=   0.1s\n",
            "[CV] C=0.1, gamma=0.1, kernel=rbf ....................................\n",
            "[CV] ..................... C=0.1, gamma=0.1, kernel=rbf, total=   0.1s\n",
            "[CV] C=0.1, gamma=0.1, kernel=rbf ....................................\n",
            "[CV] ..................... C=0.1, gamma=0.1, kernel=rbf, total=   0.1s\n",
            "[CV] C=0.1, gamma=0.1, kernel=rbf ....................................\n",
            "[CV] ..................... C=0.1, gamma=0.1, kernel=rbf, total=   0.1s\n",
            "[CV] C=0.1, gamma=0.1, kernel=rbf ....................................\n",
            "[CV] ..................... C=0.1, gamma=0.1, kernel=rbf, total=   0.1s\n",
            "[CV] C=0.1, gamma=0.1, kernel=sigmoid ................................\n",
            "[CV] ................. C=0.1, gamma=0.1, kernel=sigmoid, total=   0.2s\n",
            "[CV] C=0.1, gamma=0.1, kernel=sigmoid ................................\n",
            "[CV] ................. C=0.1, gamma=0.1, kernel=sigmoid, total=   0.2s\n",
            "[CV] C=0.1, gamma=0.1, kernel=sigmoid ................................\n",
            "[CV] ................. C=0.1, gamma=0.1, kernel=sigmoid, total=   0.2s\n",
            "[CV] C=0.1, gamma=0.1, kernel=sigmoid ................................\n",
            "[CV] ................. C=0.1, gamma=0.1, kernel=sigmoid, total=   0.2s\n",
            "[CV] C=0.1, gamma=0.1, kernel=sigmoid ................................\n",
            "[CV] ................. C=0.1, gamma=0.1, kernel=sigmoid, total=   0.2s\n",
            "[CV] C=0.1, gamma=0.01, kernel=rbf ...................................\n",
            "[CV] .................... C=0.1, gamma=0.01, kernel=rbf, total=   0.2s\n",
            "[CV] C=0.1, gamma=0.01, kernel=rbf ...................................\n",
            "[CV] .................... C=0.1, gamma=0.01, kernel=rbf, total=   0.2s\n",
            "[CV] C=0.1, gamma=0.01, kernel=rbf ...................................\n",
            "[CV] .................... C=0.1, gamma=0.01, kernel=rbf, total=   0.2s\n",
            "[CV] C=0.1, gamma=0.01, kernel=rbf ...................................\n",
            "[CV] .................... C=0.1, gamma=0.01, kernel=rbf, total=   0.1s\n",
            "[CV] C=0.1, gamma=0.01, kernel=rbf ...................................\n",
            "[CV] .................... C=0.1, gamma=0.01, kernel=rbf, total=   0.2s\n",
            "[CV] C=0.1, gamma=0.01, kernel=sigmoid ...............................\n",
            "[CV] ................ C=0.1, gamma=0.01, kernel=sigmoid, total=   0.2s\n",
            "[CV] C=0.1, gamma=0.01, kernel=sigmoid ...............................\n",
            "[CV] ................ C=0.1, gamma=0.01, kernel=sigmoid, total=   0.2s\n",
            "[CV] C=0.1, gamma=0.01, kernel=sigmoid ...............................\n",
            "[CV] ................ C=0.1, gamma=0.01, kernel=sigmoid, total=   0.2s\n",
            "[CV] C=0.1, gamma=0.01, kernel=sigmoid ...............................\n",
            "[CV] ................ C=0.1, gamma=0.01, kernel=sigmoid, total=   0.2s\n",
            "[CV] C=0.1, gamma=0.01, kernel=sigmoid ...............................\n",
            "[CV] ................ C=0.1, gamma=0.01, kernel=sigmoid, total=   0.2s\n",
            "[CV] C=0.1, gamma=0.001, kernel=rbf ..................................\n",
            "[CV] ................... C=0.1, gamma=0.001, kernel=rbf, total=   0.2s\n",
            "[CV] C=0.1, gamma=0.001, kernel=rbf ..................................\n",
            "[CV] ................... C=0.1, gamma=0.001, kernel=rbf, total=   0.2s\n",
            "[CV] C=0.1, gamma=0.001, kernel=rbf ..................................\n",
            "[CV] ................... C=0.1, gamma=0.001, kernel=rbf, total=   0.2s\n",
            "[CV] C=0.1, gamma=0.001, kernel=rbf ..................................\n",
            "[CV] ................... C=0.1, gamma=0.001, kernel=rbf, total=   0.2s\n",
            "[CV] C=0.1, gamma=0.001, kernel=rbf ..................................\n",
            "[CV] ................... C=0.1, gamma=0.001, kernel=rbf, total=   0.2s\n",
            "[CV] C=0.1, gamma=0.001, kernel=sigmoid ..............................\n",
            "[CV] ............... C=0.1, gamma=0.001, kernel=sigmoid, total=   0.2s\n",
            "[CV] C=0.1, gamma=0.001, kernel=sigmoid ..............................\n",
            "[CV] ............... C=0.1, gamma=0.001, kernel=sigmoid, total=   0.2s\n",
            "[CV] C=0.1, gamma=0.001, kernel=sigmoid ..............................\n",
            "[CV] ............... C=0.1, gamma=0.001, kernel=sigmoid, total=   0.2s\n",
            "[CV] C=0.1, gamma=0.001, kernel=sigmoid ..............................\n",
            "[CV] ............... C=0.1, gamma=0.001, kernel=sigmoid, total=   0.2s\n",
            "[CV] C=0.1, gamma=0.001, kernel=sigmoid ..............................\n",
            "[CV] ............... C=0.1, gamma=0.001, kernel=sigmoid, total=   0.2s\n",
            "[CV] C=1, gamma=1, kernel=rbf ........................................\n",
            "[CV] ......................... C=1, gamma=1, kernel=rbf, total=   0.1s\n",
            "[CV] C=1, gamma=1, kernel=rbf ........................................\n",
            "[CV] ......................... C=1, gamma=1, kernel=rbf, total=   0.1s\n",
            "[CV] C=1, gamma=1, kernel=rbf ........................................\n",
            "[CV] ......................... C=1, gamma=1, kernel=rbf, total=   0.1s\n",
            "[CV] C=1, gamma=1, kernel=rbf ........................................\n",
            "[CV] ......................... C=1, gamma=1, kernel=rbf, total=   0.1s\n",
            "[CV] C=1, gamma=1, kernel=rbf ........................................\n",
            "[CV] ......................... C=1, gamma=1, kernel=rbf, total=   0.1s\n",
            "[CV] C=1, gamma=1, kernel=sigmoid ....................................\n",
            "[CV] ..................... C=1, gamma=1, kernel=sigmoid, total=   0.2s\n",
            "[CV] C=1, gamma=1, kernel=sigmoid ....................................\n",
            "[CV] ..................... C=1, gamma=1, kernel=sigmoid, total=   0.2s\n",
            "[CV] C=1, gamma=1, kernel=sigmoid ....................................\n",
            "[CV] ..................... C=1, gamma=1, kernel=sigmoid, total=   0.2s\n",
            "[CV] C=1, gamma=1, kernel=sigmoid ....................................\n",
            "[CV] ..................... C=1, gamma=1, kernel=sigmoid, total=   0.2s\n",
            "[CV] C=1, gamma=1, kernel=sigmoid ....................................\n",
            "[CV] ..................... C=1, gamma=1, kernel=sigmoid, total=   0.1s\n",
            "[CV] C=1, gamma=0.5, kernel=rbf ......................................\n",
            "[CV] ....................... C=1, gamma=0.5, kernel=rbf, total=   0.1s\n",
            "[CV] C=1, gamma=0.5, kernel=rbf ......................................\n",
            "[CV] ....................... C=1, gamma=0.5, kernel=rbf, total=   0.1s\n",
            "[CV] C=1, gamma=0.5, kernel=rbf ......................................\n",
            "[CV] ....................... C=1, gamma=0.5, kernel=rbf, total=   0.1s\n",
            "[CV] C=1, gamma=0.5, kernel=rbf ......................................\n",
            "[CV] ....................... C=1, gamma=0.5, kernel=rbf, total=   0.1s\n",
            "[CV] C=1, gamma=0.5, kernel=rbf ......................................\n",
            "[CV] ....................... C=1, gamma=0.5, kernel=rbf, total=   0.1s\n",
            "[CV] C=1, gamma=0.5, kernel=sigmoid ..................................\n",
            "[CV] ................... C=1, gamma=0.5, kernel=sigmoid, total=   0.1s\n",
            "[CV] C=1, gamma=0.5, kernel=sigmoid ..................................\n",
            "[CV] ................... C=1, gamma=0.5, kernel=sigmoid, total=   0.2s\n",
            "[CV] C=1, gamma=0.5, kernel=sigmoid ..................................\n",
            "[CV] ................... C=1, gamma=0.5, kernel=sigmoid, total=   0.1s\n",
            "[CV] C=1, gamma=0.5, kernel=sigmoid ..................................\n",
            "[CV] ................... C=1, gamma=0.5, kernel=sigmoid, total=   0.2s\n",
            "[CV] C=1, gamma=0.5, kernel=sigmoid ..................................\n",
            "[CV] ................... C=1, gamma=0.5, kernel=sigmoid, total=   0.2s\n",
            "[CV] C=1, gamma=0.2, kernel=rbf ......................................\n",
            "[CV] ....................... C=1, gamma=0.2, kernel=rbf, total=   0.1s\n",
            "[CV] C=1, gamma=0.2, kernel=rbf ......................................\n",
            "[CV] ....................... C=1, gamma=0.2, kernel=rbf, total=   0.1s\n",
            "[CV] C=1, gamma=0.2, kernel=rbf ......................................\n",
            "[CV] ....................... C=1, gamma=0.2, kernel=rbf, total=   0.1s\n",
            "[CV] C=1, gamma=0.2, kernel=rbf ......................................\n",
            "[CV] ....................... C=1, gamma=0.2, kernel=rbf, total=   0.1s\n",
            "[CV] C=1, gamma=0.2, kernel=rbf ......................................\n",
            "[CV] ....................... C=1, gamma=0.2, kernel=rbf, total=   0.1s\n",
            "[CV] C=1, gamma=0.2, kernel=sigmoid ..................................\n",
            "[CV] ................... C=1, gamma=0.2, kernel=sigmoid, total=   0.1s\n",
            "[CV] C=1, gamma=0.2, kernel=sigmoid ..................................\n",
            "[CV] ................... C=1, gamma=0.2, kernel=sigmoid, total=   0.1s\n",
            "[CV] C=1, gamma=0.2, kernel=sigmoid ..................................\n",
            "[CV] ................... C=1, gamma=0.2, kernel=sigmoid, total=   0.1s\n",
            "[CV] C=1, gamma=0.2, kernel=sigmoid ..................................\n",
            "[CV] ................... C=1, gamma=0.2, kernel=sigmoid, total=   0.1s\n",
            "[CV] C=1, gamma=0.2, kernel=sigmoid ..................................\n",
            "[CV] ................... C=1, gamma=0.2, kernel=sigmoid, total=   0.1s\n",
            "[CV] C=1, gamma=0.1, kernel=rbf ......................................\n",
            "[CV] ....................... C=1, gamma=0.1, kernel=rbf, total=   0.1s\n",
            "[CV] C=1, gamma=0.1, kernel=rbf ......................................\n",
            "[CV] ....................... C=1, gamma=0.1, kernel=rbf, total=   0.1s\n",
            "[CV] C=1, gamma=0.1, kernel=rbf ......................................\n",
            "[CV] ....................... C=1, gamma=0.1, kernel=rbf, total=   0.1s\n",
            "[CV] C=1, gamma=0.1, kernel=rbf ......................................\n",
            "[CV] ....................... C=1, gamma=0.1, kernel=rbf, total=   0.1s\n",
            "[CV] C=1, gamma=0.1, kernel=rbf ......................................\n",
            "[CV] ....................... C=1, gamma=0.1, kernel=rbf, total=   0.1s\n",
            "[CV] C=1, gamma=0.1, kernel=sigmoid ..................................\n",
            "[CV] ................... C=1, gamma=0.1, kernel=sigmoid, total=   0.1s\n",
            "[CV] C=1, gamma=0.1, kernel=sigmoid ..................................\n",
            "[CV] ................... C=1, gamma=0.1, kernel=sigmoid, total=   0.1s\n",
            "[CV] C=1, gamma=0.1, kernel=sigmoid ..................................\n",
            "[CV] ................... C=1, gamma=0.1, kernel=sigmoid, total=   0.1s\n",
            "[CV] C=1, gamma=0.1, kernel=sigmoid ..................................\n",
            "[CV] ................... C=1, gamma=0.1, kernel=sigmoid, total=   0.1s\n",
            "[CV] C=1, gamma=0.1, kernel=sigmoid ..................................\n",
            "[CV] ................... C=1, gamma=0.1, kernel=sigmoid, total=   0.1s\n",
            "[CV] C=1, gamma=0.01, kernel=rbf .....................................\n",
            "[CV] ...................... C=1, gamma=0.01, kernel=rbf, total=   0.1s\n",
            "[CV] C=1, gamma=0.01, kernel=rbf .....................................\n",
            "[CV] ...................... C=1, gamma=0.01, kernel=rbf, total=   0.1s\n",
            "[CV] C=1, gamma=0.01, kernel=rbf .....................................\n",
            "[CV] ...................... C=1, gamma=0.01, kernel=rbf, total=   0.1s\n",
            "[CV] C=1, gamma=0.01, kernel=rbf .....................................\n",
            "[CV] ...................... C=1, gamma=0.01, kernel=rbf, total=   0.1s\n",
            "[CV] C=1, gamma=0.01, kernel=rbf .....................................\n",
            "[CV] ...................... C=1, gamma=0.01, kernel=rbf, total=   0.1s\n",
            "[CV] C=1, gamma=0.01, kernel=sigmoid .................................\n",
            "[CV] .................. C=1, gamma=0.01, kernel=sigmoid, total=   0.1s\n",
            "[CV] C=1, gamma=0.01, kernel=sigmoid .................................\n",
            "[CV] .................. C=1, gamma=0.01, kernel=sigmoid, total=   0.1s\n",
            "[CV] C=1, gamma=0.01, kernel=sigmoid .................................\n",
            "[CV] .................. C=1, gamma=0.01, kernel=sigmoid, total=   0.1s\n",
            "[CV] C=1, gamma=0.01, kernel=sigmoid .................................\n",
            "[CV] .................. C=1, gamma=0.01, kernel=sigmoid, total=   0.1s\n",
            "[CV] C=1, gamma=0.01, kernel=sigmoid .................................\n",
            "[CV] .................. C=1, gamma=0.01, kernel=sigmoid, total=   0.1s\n",
            "[CV] C=1, gamma=0.001, kernel=rbf ....................................\n",
            "[CV] ..................... C=1, gamma=0.001, kernel=rbf, total=   0.2s\n",
            "[CV] C=1, gamma=0.001, kernel=rbf ....................................\n",
            "[CV] ..................... C=1, gamma=0.001, kernel=rbf, total=   0.1s\n",
            "[CV] C=1, gamma=0.001, kernel=rbf ....................................\n",
            "[CV] ..................... C=1, gamma=0.001, kernel=rbf, total=   0.2s\n",
            "[CV] C=1, gamma=0.001, kernel=rbf ....................................\n",
            "[CV] ..................... C=1, gamma=0.001, kernel=rbf, total=   0.1s\n",
            "[CV] C=1, gamma=0.001, kernel=rbf ....................................\n",
            "[CV] ..................... C=1, gamma=0.001, kernel=rbf, total=   0.1s\n",
            "[CV] C=1, gamma=0.001, kernel=sigmoid ................................\n",
            "[CV] ................. C=1, gamma=0.001, kernel=sigmoid, total=   0.2s\n",
            "[CV] C=1, gamma=0.001, kernel=sigmoid ................................\n",
            "[CV] ................. C=1, gamma=0.001, kernel=sigmoid, total=   0.2s\n",
            "[CV] C=1, gamma=0.001, kernel=sigmoid ................................\n",
            "[CV] ................. C=1, gamma=0.001, kernel=sigmoid, total=   0.2s\n",
            "[CV] C=1, gamma=0.001, kernel=sigmoid ................................\n",
            "[CV] ................. C=1, gamma=0.001, kernel=sigmoid, total=   0.2s\n",
            "[CV] C=1, gamma=0.001, kernel=sigmoid ................................\n",
            "[CV] ................. C=1, gamma=0.001, kernel=sigmoid, total=   0.2s\n",
            "[CV] C=10, gamma=1, kernel=rbf .......................................\n",
            "[CV] ........................ C=10, gamma=1, kernel=rbf, total=   0.2s\n",
            "[CV] C=10, gamma=1, kernel=rbf .......................................\n",
            "[CV] ........................ C=10, gamma=1, kernel=rbf, total=   0.2s\n",
            "[CV] C=10, gamma=1, kernel=rbf .......................................\n",
            "[CV] ........................ C=10, gamma=1, kernel=rbf, total=   0.1s\n",
            "[CV] C=10, gamma=1, kernel=rbf .......................................\n",
            "[CV] ........................ C=10, gamma=1, kernel=rbf, total=   0.2s\n",
            "[CV] C=10, gamma=1, kernel=rbf .......................................\n",
            "[CV] ........................ C=10, gamma=1, kernel=rbf, total=   0.2s\n",
            "[CV] C=10, gamma=1, kernel=sigmoid ...................................\n",
            "[CV] .................... C=10, gamma=1, kernel=sigmoid, total=   0.2s\n",
            "[CV] C=10, gamma=1, kernel=sigmoid ...................................\n",
            "[CV] .................... C=10, gamma=1, kernel=sigmoid, total=   0.2s\n",
            "[CV] C=10, gamma=1, kernel=sigmoid ...................................\n",
            "[CV] .................... C=10, gamma=1, kernel=sigmoid, total=   0.2s\n",
            "[CV] C=10, gamma=1, kernel=sigmoid ...................................\n",
            "[CV] .................... C=10, gamma=1, kernel=sigmoid, total=   0.2s\n",
            "[CV] C=10, gamma=1, kernel=sigmoid ...................................\n",
            "[CV] .................... C=10, gamma=1, kernel=sigmoid, total=   0.1s\n",
            "[CV] C=10, gamma=0.5, kernel=rbf .....................................\n",
            "[CV] ...................... C=10, gamma=0.5, kernel=rbf, total=   0.1s\n",
            "[CV] C=10, gamma=0.5, kernel=rbf .....................................\n",
            "[CV] ...................... C=10, gamma=0.5, kernel=rbf, total=   0.1s\n",
            "[CV] C=10, gamma=0.5, kernel=rbf .....................................\n",
            "[CV] ...................... C=10, gamma=0.5, kernel=rbf, total=   0.1s\n",
            "[CV] C=10, gamma=0.5, kernel=rbf .....................................\n",
            "[CV] ...................... C=10, gamma=0.5, kernel=rbf, total=   0.1s\n",
            "[CV] C=10, gamma=0.5, kernel=rbf .....................................\n",
            "[CV] ...................... C=10, gamma=0.5, kernel=rbf, total=   0.1s\n",
            "[CV] C=10, gamma=0.5, kernel=sigmoid .................................\n",
            "[CV] .................. C=10, gamma=0.5, kernel=sigmoid, total=   0.2s\n",
            "[CV] C=10, gamma=0.5, kernel=sigmoid .................................\n",
            "[CV] .................. C=10, gamma=0.5, kernel=sigmoid, total=   0.2s\n",
            "[CV] C=10, gamma=0.5, kernel=sigmoid .................................\n",
            "[CV] .................. C=10, gamma=0.5, kernel=sigmoid, total=   0.1s\n",
            "[CV] C=10, gamma=0.5, kernel=sigmoid .................................\n",
            "[CV] .................. C=10, gamma=0.5, kernel=sigmoid, total=   0.2s\n",
            "[CV] C=10, gamma=0.5, kernel=sigmoid .................................\n",
            "[CV] .................. C=10, gamma=0.5, kernel=sigmoid, total=   0.2s\n",
            "[CV] C=10, gamma=0.2, kernel=rbf .....................................\n",
            "[CV] ...................... C=10, gamma=0.2, kernel=rbf, total=   0.1s\n",
            "[CV] C=10, gamma=0.2, kernel=rbf .....................................\n",
            "[CV] ...................... C=10, gamma=0.2, kernel=rbf, total=   0.1s\n",
            "[CV] C=10, gamma=0.2, kernel=rbf .....................................\n",
            "[CV] ...................... C=10, gamma=0.2, kernel=rbf, total=   0.1s\n",
            "[CV] C=10, gamma=0.2, kernel=rbf .....................................\n",
            "[CV] ...................... C=10, gamma=0.2, kernel=rbf, total=   0.1s\n",
            "[CV] C=10, gamma=0.2, kernel=rbf .....................................\n",
            "[CV] ...................... C=10, gamma=0.2, kernel=rbf, total=   0.1s\n",
            "[CV] C=10, gamma=0.2, kernel=sigmoid .................................\n",
            "[CV] .................. C=10, gamma=0.2, kernel=sigmoid, total=   0.1s\n",
            "[CV] C=10, gamma=0.2, kernel=sigmoid .................................\n",
            "[CV] .................. C=10, gamma=0.2, kernel=sigmoid, total=   0.1s\n",
            "[CV] C=10, gamma=0.2, kernel=sigmoid .................................\n",
            "[CV] .................. C=10, gamma=0.2, kernel=sigmoid, total=   0.1s\n",
            "[CV] C=10, gamma=0.2, kernel=sigmoid .................................\n",
            "[CV] .................. C=10, gamma=0.2, kernel=sigmoid, total=   0.1s\n",
            "[CV] C=10, gamma=0.2, kernel=sigmoid .................................\n",
            "[CV] .................. C=10, gamma=0.2, kernel=sigmoid, total=   0.1s\n",
            "[CV] C=10, gamma=0.1, kernel=rbf .....................................\n",
            "[CV] ...................... C=10, gamma=0.1, kernel=rbf, total=   0.1s\n",
            "[CV] C=10, gamma=0.1, kernel=rbf .....................................\n",
            "[CV] ...................... C=10, gamma=0.1, kernel=rbf, total=   0.1s\n",
            "[CV] C=10, gamma=0.1, kernel=rbf .....................................\n",
            "[CV] ...................... C=10, gamma=0.1, kernel=rbf, total=   0.1s\n",
            "[CV] C=10, gamma=0.1, kernel=rbf .....................................\n",
            "[CV] ...................... C=10, gamma=0.1, kernel=rbf, total=   0.1s\n",
            "[CV] C=10, gamma=0.1, kernel=rbf .....................................\n",
            "[CV] ...................... C=10, gamma=0.1, kernel=rbf, total=   0.1s\n",
            "[CV] C=10, gamma=0.1, kernel=sigmoid .................................\n",
            "[CV] .................. C=10, gamma=0.1, kernel=sigmoid, total=   0.1s\n",
            "[CV] C=10, gamma=0.1, kernel=sigmoid .................................\n",
            "[CV] .................. C=10, gamma=0.1, kernel=sigmoid, total=   0.1s\n",
            "[CV] C=10, gamma=0.1, kernel=sigmoid .................................\n",
            "[CV] .................. C=10, gamma=0.1, kernel=sigmoid, total=   0.1s\n",
            "[CV] C=10, gamma=0.1, kernel=sigmoid .................................\n",
            "[CV] .................. C=10, gamma=0.1, kernel=sigmoid, total=   0.1s\n",
            "[CV] C=10, gamma=0.1, kernel=sigmoid .................................\n",
            "[CV] .................. C=10, gamma=0.1, kernel=sigmoid, total=   0.1s\n",
            "[CV] C=10, gamma=0.01, kernel=rbf ....................................\n",
            "[CV] ..................... C=10, gamma=0.01, kernel=rbf, total=   0.1s\n",
            "[CV] C=10, gamma=0.01, kernel=rbf ....................................\n",
            "[CV] ..................... C=10, gamma=0.01, kernel=rbf, total=   0.1s\n",
            "[CV] C=10, gamma=0.01, kernel=rbf ....................................\n",
            "[CV] ..................... C=10, gamma=0.01, kernel=rbf, total=   0.1s\n",
            "[CV] C=10, gamma=0.01, kernel=rbf ....................................\n",
            "[CV] ..................... C=10, gamma=0.01, kernel=rbf, total=   0.1s\n",
            "[CV] C=10, gamma=0.01, kernel=rbf ....................................\n",
            "[CV] ..................... C=10, gamma=0.01, kernel=rbf, total=   0.1s\n",
            "[CV] C=10, gamma=0.01, kernel=sigmoid ................................\n",
            "[CV] ................. C=10, gamma=0.01, kernel=sigmoid, total=   0.1s\n",
            "[CV] C=10, gamma=0.01, kernel=sigmoid ................................\n",
            "[CV] ................. C=10, gamma=0.01, kernel=sigmoid, total=   0.1s\n",
            "[CV] C=10, gamma=0.01, kernel=sigmoid ................................\n",
            "[CV] ................. C=10, gamma=0.01, kernel=sigmoid, total=   0.1s\n",
            "[CV] C=10, gamma=0.01, kernel=sigmoid ................................\n",
            "[CV] ................. C=10, gamma=0.01, kernel=sigmoid, total=   0.1s\n",
            "[CV] C=10, gamma=0.01, kernel=sigmoid ................................\n",
            "[CV] ................. C=10, gamma=0.01, kernel=sigmoid, total=   0.1s\n",
            "[CV] C=10, gamma=0.001, kernel=rbf ...................................\n",
            "[CV] .................... C=10, gamma=0.001, kernel=rbf, total=   0.1s\n",
            "[CV] C=10, gamma=0.001, kernel=rbf ...................................\n",
            "[CV] .................... C=10, gamma=0.001, kernel=rbf, total=   0.1s\n",
            "[CV] C=10, gamma=0.001, kernel=rbf ...................................\n",
            "[CV] .................... C=10, gamma=0.001, kernel=rbf, total=   0.1s\n",
            "[CV] C=10, gamma=0.001, kernel=rbf ...................................\n",
            "[CV] .................... C=10, gamma=0.001, kernel=rbf, total=   0.1s\n",
            "[CV] C=10, gamma=0.001, kernel=rbf ...................................\n",
            "[CV] .................... C=10, gamma=0.001, kernel=rbf, total=   0.1s\n",
            "[CV] C=10, gamma=0.001, kernel=sigmoid ...............................\n",
            "[CV] ................ C=10, gamma=0.001, kernel=sigmoid, total=   0.1s\n",
            "[CV] C=10, gamma=0.001, kernel=sigmoid ...............................\n",
            "[CV] ................ C=10, gamma=0.001, kernel=sigmoid, total=   0.1s\n",
            "[CV] C=10, gamma=0.001, kernel=sigmoid ...............................\n",
            "[CV] ................ C=10, gamma=0.001, kernel=sigmoid, total=   0.1s\n",
            "[CV] C=10, gamma=0.001, kernel=sigmoid ...............................\n",
            "[CV] ................ C=10, gamma=0.001, kernel=sigmoid, total=   0.1s\n",
            "[CV] C=10, gamma=0.001, kernel=sigmoid ...............................\n",
            "[CV] ................ C=10, gamma=0.001, kernel=sigmoid, total=   0.1s\n",
            "[CV] C=100, gamma=1, kernel=rbf ......................................\n",
            "[CV] ....................... C=100, gamma=1, kernel=rbf, total=   0.2s\n",
            "[CV] C=100, gamma=1, kernel=rbf ......................................\n",
            "[CV] ....................... C=100, gamma=1, kernel=rbf, total=   0.2s\n",
            "[CV] C=100, gamma=1, kernel=rbf ......................................\n",
            "[CV] ....................... C=100, gamma=1, kernel=rbf, total=   0.1s\n",
            "[CV] C=100, gamma=1, kernel=rbf ......................................\n",
            "[CV] ....................... C=100, gamma=1, kernel=rbf, total=   0.2s\n",
            "[CV] C=100, gamma=1, kernel=rbf ......................................\n",
            "[CV] ....................... C=100, gamma=1, kernel=rbf, total=   0.2s\n",
            "[CV] C=100, gamma=1, kernel=sigmoid ..................................\n",
            "[CV] ................... C=100, gamma=1, kernel=sigmoid, total=   0.2s\n",
            "[CV] C=100, gamma=1, kernel=sigmoid ..................................\n",
            "[CV] ................... C=100, gamma=1, kernel=sigmoid, total=   0.2s\n",
            "[CV] C=100, gamma=1, kernel=sigmoid ..................................\n",
            "[CV] ................... C=100, gamma=1, kernel=sigmoid, total=   0.2s\n",
            "[CV] C=100, gamma=1, kernel=sigmoid ..................................\n",
            "[CV] ................... C=100, gamma=1, kernel=sigmoid, total=   0.2s\n",
            "[CV] C=100, gamma=1, kernel=sigmoid ..................................\n",
            "[CV] ................... C=100, gamma=1, kernel=sigmoid, total=   0.1s\n",
            "[CV] C=100, gamma=0.5, kernel=rbf ....................................\n",
            "[CV] ..................... C=100, gamma=0.5, kernel=rbf, total=   0.1s\n",
            "[CV] C=100, gamma=0.5, kernel=rbf ....................................\n",
            "[CV] ..................... C=100, gamma=0.5, kernel=rbf, total=   0.1s\n",
            "[CV] C=100, gamma=0.5, kernel=rbf ....................................\n",
            "[CV] ..................... C=100, gamma=0.5, kernel=rbf, total=   0.1s\n",
            "[CV] C=100, gamma=0.5, kernel=rbf ....................................\n",
            "[CV] ..................... C=100, gamma=0.5, kernel=rbf, total=   0.1s\n",
            "[CV] C=100, gamma=0.5, kernel=rbf ....................................\n",
            "[CV] ..................... C=100, gamma=0.5, kernel=rbf, total=   0.1s\n",
            "[CV] C=100, gamma=0.5, kernel=sigmoid ................................\n",
            "[CV] ................. C=100, gamma=0.5, kernel=sigmoid, total=   0.2s\n",
            "[CV] C=100, gamma=0.5, kernel=sigmoid ................................\n",
            "[CV] ................. C=100, gamma=0.5, kernel=sigmoid, total=   0.2s\n",
            "[CV] C=100, gamma=0.5, kernel=sigmoid ................................\n",
            "[CV] ................. C=100, gamma=0.5, kernel=sigmoid, total=   0.1s\n",
            "[CV] C=100, gamma=0.5, kernel=sigmoid ................................\n",
            "[CV] ................. C=100, gamma=0.5, kernel=sigmoid, total=   0.2s\n",
            "[CV] C=100, gamma=0.5, kernel=sigmoid ................................\n",
            "[CV] ................. C=100, gamma=0.5, kernel=sigmoid, total=   0.2s\n",
            "[CV] C=100, gamma=0.2, kernel=rbf ....................................\n",
            "[CV] ..................... C=100, gamma=0.2, kernel=rbf, total=   0.1s\n",
            "[CV] C=100, gamma=0.2, kernel=rbf ....................................\n",
            "[CV] ..................... C=100, gamma=0.2, kernel=rbf, total=   0.1s\n",
            "[CV] C=100, gamma=0.2, kernel=rbf ....................................\n",
            "[CV] ..................... C=100, gamma=0.2, kernel=rbf, total=   0.1s\n",
            "[CV] C=100, gamma=0.2, kernel=rbf ....................................\n",
            "[CV] ..................... C=100, gamma=0.2, kernel=rbf, total=   0.1s\n",
            "[CV] C=100, gamma=0.2, kernel=rbf ....................................\n",
            "[CV] ..................... C=100, gamma=0.2, kernel=rbf, total=   0.1s\n",
            "[CV] C=100, gamma=0.2, kernel=sigmoid ................................\n",
            "[CV] ................. C=100, gamma=0.2, kernel=sigmoid, total=   0.1s\n",
            "[CV] C=100, gamma=0.2, kernel=sigmoid ................................\n",
            "[CV] ................. C=100, gamma=0.2, kernel=sigmoid, total=   0.1s\n",
            "[CV] C=100, gamma=0.2, kernel=sigmoid ................................\n",
            "[CV] ................. C=100, gamma=0.2, kernel=sigmoid, total=   0.1s\n",
            "[CV] C=100, gamma=0.2, kernel=sigmoid ................................\n",
            "[CV] ................. C=100, gamma=0.2, kernel=sigmoid, total=   0.1s\n",
            "[CV] C=100, gamma=0.2, kernel=sigmoid ................................\n",
            "[CV] ................. C=100, gamma=0.2, kernel=sigmoid, total=   0.1s\n",
            "[CV] C=100, gamma=0.1, kernel=rbf ....................................\n",
            "[CV] ..................... C=100, gamma=0.1, kernel=rbf, total=   0.1s\n",
            "[CV] C=100, gamma=0.1, kernel=rbf ....................................\n",
            "[CV] ..................... C=100, gamma=0.1, kernel=rbf, total=   0.1s\n",
            "[CV] C=100, gamma=0.1, kernel=rbf ....................................\n",
            "[CV] ..................... C=100, gamma=0.1, kernel=rbf, total=   0.1s\n",
            "[CV] C=100, gamma=0.1, kernel=rbf ....................................\n",
            "[CV] ..................... C=100, gamma=0.1, kernel=rbf, total=   0.1s\n",
            "[CV] C=100, gamma=0.1, kernel=rbf ....................................\n",
            "[CV] ..................... C=100, gamma=0.1, kernel=rbf, total=   0.1s\n",
            "[CV] C=100, gamma=0.1, kernel=sigmoid ................................\n",
            "[CV] ................. C=100, gamma=0.1, kernel=sigmoid, total=   0.1s\n",
            "[CV] C=100, gamma=0.1, kernel=sigmoid ................................\n",
            "[CV] ................. C=100, gamma=0.1, kernel=sigmoid, total=   0.1s\n",
            "[CV] C=100, gamma=0.1, kernel=sigmoid ................................\n",
            "[CV] ................. C=100, gamma=0.1, kernel=sigmoid, total=   0.1s\n",
            "[CV] C=100, gamma=0.1, kernel=sigmoid ................................\n",
            "[CV] ................. C=100, gamma=0.1, kernel=sigmoid, total=   0.1s\n",
            "[CV] C=100, gamma=0.1, kernel=sigmoid ................................\n",
            "[CV] ................. C=100, gamma=0.1, kernel=sigmoid, total=   0.1s\n",
            "[CV] C=100, gamma=0.01, kernel=rbf ...................................\n",
            "[CV] .................... C=100, gamma=0.01, kernel=rbf, total=   0.1s\n",
            "[CV] C=100, gamma=0.01, kernel=rbf ...................................\n",
            "[CV] .................... C=100, gamma=0.01, kernel=rbf, total=   0.1s\n",
            "[CV] C=100, gamma=0.01, kernel=rbf ...................................\n",
            "[CV] .................... C=100, gamma=0.01, kernel=rbf, total=   0.1s\n",
            "[CV] C=100, gamma=0.01, kernel=rbf ...................................\n",
            "[CV] .................... C=100, gamma=0.01, kernel=rbf, total=   0.1s\n",
            "[CV] C=100, gamma=0.01, kernel=rbf ...................................\n",
            "[CV] .................... C=100, gamma=0.01, kernel=rbf, total=   0.1s\n",
            "[CV] C=100, gamma=0.01, kernel=sigmoid ...............................\n",
            "[CV] ................ C=100, gamma=0.01, kernel=sigmoid, total=   0.1s\n",
            "[CV] C=100, gamma=0.01, kernel=sigmoid ...............................\n",
            "[CV] ................ C=100, gamma=0.01, kernel=sigmoid, total=   0.1s\n",
            "[CV] C=100, gamma=0.01, kernel=sigmoid ...............................\n",
            "[CV] ................ C=100, gamma=0.01, kernel=sigmoid, total=   0.1s\n",
            "[CV] C=100, gamma=0.01, kernel=sigmoid ...............................\n",
            "[CV] ................ C=100, gamma=0.01, kernel=sigmoid, total=   0.1s\n",
            "[CV] C=100, gamma=0.01, kernel=sigmoid ...............................\n",
            "[CV] ................ C=100, gamma=0.01, kernel=sigmoid, total=   0.1s\n",
            "[CV] C=100, gamma=0.001, kernel=rbf ..................................\n",
            "[CV] ................... C=100, gamma=0.001, kernel=rbf, total=   0.1s\n",
            "[CV] C=100, gamma=0.001, kernel=rbf ..................................\n",
            "[CV] ................... C=100, gamma=0.001, kernel=rbf, total=   0.1s\n",
            "[CV] C=100, gamma=0.001, kernel=rbf ..................................\n",
            "[CV] ................... C=100, gamma=0.001, kernel=rbf, total=   0.1s\n",
            "[CV] C=100, gamma=0.001, kernel=rbf ..................................\n",
            "[CV] ................... C=100, gamma=0.001, kernel=rbf, total=   0.1s\n",
            "[CV] C=100, gamma=0.001, kernel=rbf ..................................\n",
            "[CV] ................... C=100, gamma=0.001, kernel=rbf, total=   0.1s\n",
            "[CV] C=100, gamma=0.001, kernel=sigmoid ..............................\n",
            "[CV] ............... C=100, gamma=0.001, kernel=sigmoid, total=   0.1s\n",
            "[CV] C=100, gamma=0.001, kernel=sigmoid ..............................\n",
            "[CV] ............... C=100, gamma=0.001, kernel=sigmoid, total=   0.1s\n",
            "[CV] C=100, gamma=0.001, kernel=sigmoid ..............................\n",
            "[CV] ............... C=100, gamma=0.001, kernel=sigmoid, total=   0.1s\n",
            "[CV] C=100, gamma=0.001, kernel=sigmoid ..............................\n",
            "[CV] ............... C=100, gamma=0.001, kernel=sigmoid, total=   0.1s\n",
            "[CV] C=100, gamma=0.001, kernel=sigmoid ..............................\n",
            "[CV] ............... C=100, gamma=0.001, kernel=sigmoid, total=   0.1s\n",
            "[CV] C=1, kernel=linear ..............................................\n",
            "[CV] ............................... C=1, kernel=linear, total=   0.1s\n",
            "[CV] C=1, kernel=linear ..............................................\n",
            "[CV] ............................... C=1, kernel=linear, total=   0.1s\n",
            "[CV] C=1, kernel=linear ..............................................\n",
            "[CV] ............................... C=1, kernel=linear, total=   0.1s\n",
            "[CV] C=1, kernel=linear ..............................................\n",
            "[CV] ............................... C=1, kernel=linear, total=   0.1s\n",
            "[CV] C=1, kernel=linear ..............................................\n",
            "[CV] ............................... C=1, kernel=linear, total=   0.1s\n",
            "[CV] C=10, kernel=linear .............................................\n",
            "[CV] .............................. C=10, kernel=linear, total=   0.2s\n",
            "[CV] C=10, kernel=linear .............................................\n",
            "[CV] .............................. C=10, kernel=linear, total=   0.2s\n",
            "[CV] C=10, kernel=linear .............................................\n",
            "[CV] .............................. C=10, kernel=linear, total=   0.3s\n",
            "[CV] C=10, kernel=linear .............................................\n",
            "[CV] .............................. C=10, kernel=linear, total=   0.2s\n",
            "[CV] C=10, kernel=linear .............................................\n",
            "[CV] .............................. C=10, kernel=linear, total=   0.2s\n",
            "[CV] C=100, kernel=linear ............................................\n",
            "[CV] ............................. C=100, kernel=linear, total=   1.4s\n",
            "[CV] C=100, kernel=linear ............................................\n",
            "[CV] ............................. C=100, kernel=linear, total=   1.4s\n",
            "[CV] C=100, kernel=linear ............................................\n",
            "[CV] ............................. C=100, kernel=linear, total=   1.3s\n",
            "[CV] C=100, kernel=linear ............................................\n",
            "[CV] ............................. C=100, kernel=linear, total=   1.2s\n",
            "[CV] C=100, kernel=linear ............................................\n",
            "[CV] ............................. C=100, kernel=linear, total=   1.1s\n",
            "[CV] C=1000, kernel=linear ...........................................\n",
            "[CV] ............................ C=1000, kernel=linear, total=  11.2s\n",
            "[CV] C=1000, kernel=linear ...........................................\n",
            "[CV] ............................ C=1000, kernel=linear, total=  10.6s\n",
            "[CV] C=1000, kernel=linear ...........................................\n",
            "[CV] ............................ C=1000, kernel=linear, total=   9.7s\n",
            "[CV] C=1000, kernel=linear ...........................................\n",
            "[CV] ............................ C=1000, kernel=linear, total=  11.3s\n",
            "[CV] C=1000, kernel=linear ...........................................\n",
            "[CV] ............................ C=1000, kernel=linear, total=  10.9s\n"
          ],
          "name": "stdout"
        },
        {
          "output_type": "stream",
          "text": [
            "[Parallel(n_jobs=1)]: Done 260 out of 260 | elapsed:  1.5min finished\n"
          ],
          "name": "stderr"
        },
        {
          "output_type": "execute_result",
          "data": {
            "text/plain": [
              "GridSearchCV(cv=None, error_score=nan,\n",
              "             estimator=SVC(C=1.0, break_ties=False, cache_size=200,\n",
              "                           class_weight=None, coef0=0.0,\n",
              "                           decision_function_shape='ovr', degree=3,\n",
              "                           gamma='scale', kernel='rbf', max_iter=-1,\n",
              "                           probability=False, random_state=None, shrinking=True,\n",
              "                           tol=0.001, verbose=False),\n",
              "             iid='deprecated', n_jobs=None,\n",
              "             param_grid=[{'C': [0.1, 1, 10, 100],\n",
              "                          'gamma': [1, 0.5, 0.2, 0.1, 0.01, 0.001],\n",
              "                          'kernel': ['rbf', 'sigmoid']},\n",
              "                         {'C': [1, 10, 100, 1000], 'kernel': ['linear']}],\n",
              "             pre_dispatch='2*n_jobs', refit=True, return_train_score=False,\n",
              "             scoring=None, verbose=2)"
            ]
          },
          "metadata": {
            "tags": []
          },
          "execution_count": 95
        }
      ]
    },
    {
      "cell_type": "code",
      "metadata": {
        "colab": {
          "base_uri": "https://localhost:8080/"
        },
        "id": "JGwuixXP9KkF",
        "outputId": "a25ab6b8-059a-4a1a-8f5d-67aea2a5ef57"
      },
      "source": [
        "print(\"Best estimators \" , grid.best_estimator_)\n",
        "print(\"Best parameters \", grid.best_params_)"
      ],
      "execution_count": 96,
      "outputs": [
        {
          "output_type": "stream",
          "text": [
            "Best estimators  SVC(C=10, break_ties=False, cache_size=200, class_weight=None, coef0=0.0,\n",
            "    decision_function_shape='ovr', degree=3, gamma=0.1, kernel='rbf',\n",
            "    max_iter=-1, probability=False, random_state=None, shrinking=True,\n",
            "    tol=0.001, verbose=False)\n",
            "Best parameters  {'C': 10, 'gamma': 0.1, 'kernel': 'rbf'}\n"
          ],
          "name": "stdout"
        }
      ]
    },
    {
      "cell_type": "code",
      "metadata": {
        "id": "EyGcvZb99dXS"
      },
      "source": [
        "\n",
        "grid_predictions = grid.predict(X_val)"
      ],
      "execution_count": 97,
      "outputs": []
    },
    {
      "cell_type": "code",
      "metadata": {
        "colab": {
          "base_uri": "https://localhost:8080/"
        },
        "id": "EN53nZ7h9kcr",
        "outputId": "906b13cb-2b14-4234-c89e-91c7b6b7c5fb"
      },
      "source": [
        "print(\"Val accuracy \" , metrics.accuracy_score(y_val, grid_predictions))"
      ],
      "execution_count": 98,
      "outputs": [
        {
          "output_type": "stream",
          "text": [
            "Val accuracy  0.9714285714285714\n"
          ],
          "name": "stdout"
        }
      ]
    },
    {
      "cell_type": "code",
      "metadata": {
        "id": "79GjnA9d_Nfz"
      },
      "source": [
        "grid_predictions = grid.predict(X_test)"
      ],
      "execution_count": 99,
      "outputs": []
    },
    {
      "cell_type": "code",
      "metadata": {
        "colab": {
          "base_uri": "https://localhost:8080/"
        },
        "id": "MFesfcF6_RVV",
        "outputId": "257476e2-f323-424a-9c46-ed5eb3c3579c"
      },
      "source": [
        "print(\"Accuracy\" , metrics.accuracy_score(y_test, grid_predictions))"
      ],
      "execution_count": 100,
      "outputs": [
        {
          "output_type": "stream",
          "text": [
            "Accuracy 0.9555555555555556\n"
          ],
          "name": "stdout"
        }
      ]
    },
    {
      "cell_type": "code",
      "metadata": {
        "id": "FDiVl9mbzj6D",
        "colab": {
          "base_uri": "https://localhost:8080/",
          "height": 980
        },
        "outputId": "81be1b42-8765-4f19-f93f-bd223478da70"
      },
      "source": [
        "def get_leaf_features(photo):\n",
        "  fixed_size = tuple((256, 256))\n",
        "  names = ['mean_r','mean_g','mean_b','stddev_r','stddev_g','stddev_b', \\\n",
        "              'contrast','correlation','inverse_difference_moments','entropy']\n",
        "  df = pd.DataFrame([], columns=names)\n",
        "\n",
        "  img = cv2.imread(photo)\n",
        "  img = cv2.resize(img, fixed_size)\n",
        "\n",
        "  #Preprocessing\n",
        "  img = cv2.cvtColor(img, cv2.COLOR_BGR2RGB)\n",
        "  gs = cv2.cvtColor(img,cv2.COLOR_RGB2GRAY)\n",
        "  blur = cv2.GaussianBlur(gs, (25,25),0)\n",
        "  ret_otsu,im_bw_otsu = cv2.threshold(blur,0,255,cv2.THRESH_BINARY_INV+cv2.THRESH_OTSU)\n",
        "  kernel = np.ones((50,50),np.uint8)\n",
        "  closing = cv2.morphologyEx(im_bw_otsu, cv2.MORPH_CLOSE, kernel)\n",
        "\n",
        "  final_img = img\n",
        "\n",
        "  #get features\n",
        "  #Color features\n",
        "  red_channel = final_img[:,:,0]\n",
        "  green_channel = final_img[:,:,1]\n",
        "  blue_channel = final_img[:,:,2]\n",
        "  blue_channel[blue_channel == 255] = 0\n",
        "  green_channel[green_channel == 255] = 0\n",
        "  red_channel[red_channel == 255] = 0\n",
        "  \n",
        "  red_mean = np.mean(red_channel)\n",
        "  green_mean = np.mean(green_channel)\n",
        "  blue_mean = np.mean(blue_channel)\n",
        "  \n",
        "  red_std = np.std(red_channel)\n",
        "  green_std = np.std(green_channel)\n",
        "  blue_std = np.std(blue_channel)\n",
        "  \n",
        "  #Texture features\n",
        "  textures = mahotas.features.haralick(gs)\n",
        "  ht_mean = textures.mean(axis=0)\n",
        "  contrast = ht_mean[1]\n",
        "  correlation = ht_mean[2]\n",
        "  inverse_diff_moments = ht_mean[4]\n",
        "  entropy = ht_mean[8]\n",
        "  #write in csv\n",
        "\n",
        "  vector = [red_mean,green_mean,blue_mean,red_std,green_std,blue_std,\\\n",
        "            contrast,correlation,inverse_diff_moments,entropy ]\n",
        "  df_temp = pd.DataFrame([vector],columns=names)\n",
        "  df = df.append(df_temp)\n",
        "  return df\n",
        "\n",
        "path = \"TestReduced\"\n",
        "files = os.listdir(path)\n",
        "\n",
        "for file in files:\n",
        "    photo = os.path.join(path,file)\n",
        "    #print(photo)\n",
        "    leaf_features = get_leaf_features(photo)\n",
        "    X= sc_X.transform(leaf_features)\n",
        "    if \"healthy\" not in photo: \n",
        "      y = [1]\n",
        "    else:\n",
        "      y = [0];\n",
        "\n",
        "    y_pred = grid.predict(X)\n",
        "    print(photo, y, y_pred)\n",
        "\n",
        "    if(y != y_pred):\n",
        "      img = cv2.imread(photo)\n",
        "      plt.imshow(img)\n",
        "  \n",
        "    #print(\"Accuracy\" , metrics.accuracy_score(y, y_pred ), y , y_pred)\n",
        "    print(\"----------\")\n"
      ],
      "execution_count": 104,
      "outputs": [
        {
          "output_type": "stream",
          "text": [
            "TestReduced/image (619).JPG [1] [0]\n",
            "----------\n",
            "TestReduced/healthy (4).JPG [0] [0]\n",
            "----------\n",
            "TestReduced/image (273).JPG [1] [1]\n",
            "----------\n",
            "TestReduced/healthy (5).JPG [0] [0]\n",
            "----------\n",
            "TestReduced/image (272).JPG [1] [1]\n",
            "----------\n",
            "TestReduced/image (630).JPG [1] [1]\n",
            "----------\n",
            "TestReduced/image (620).JPG [1] [1]\n",
            "----------\n",
            "TestReduced/image (271).JPG [1] [1]\n",
            "----------\n",
            "TestReduced/image (275).JPG [1] [1]\n",
            "----------\n",
            "TestReduced/healthy (1).JPG [0] [0]\n",
            "----------\n",
            "TestReduced/image (274).JPG [1] [1]\n",
            "----------\n",
            "TestReduced/image (627).JPG [1] [1]\n",
            "----------\n",
            "TestReduced/image (618).JPG [1] [1]\n",
            "----------\n",
            "TestReduced/image (628).JPG [1] [1]\n",
            "----------\n",
            "TestReduced/image (621).JPG [1] [1]\n",
            "----------\n",
            "TestReduced/image (626).JPG [1] [1]\n",
            "----------\n",
            "TestReduced/image (616).JPG [1] [0]\n",
            "----------\n",
            "TestReduced/healthy (3).JPG [0] [0]\n",
            "----------\n",
            "TestReduced/image (629).JPG [1] [1]\n",
            "----------\n",
            "TestReduced/image (617).JPG [1] [1]\n",
            "----------\n"
          ],
          "name": "stdout"
        },
        {
          "output_type": "display_data",
          "data": {
            "image/png": "[encoded data removed]",
            "text/plain": [
              "<Figure size 432x288 with 1 Axes>"
            ]
          },
          "metadata": {
            "tags": [],
            "needs_background": "light"
          }
        }
      ]
    }
  ]
}