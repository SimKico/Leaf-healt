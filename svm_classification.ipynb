{
  "nbformat": 4,
  "nbformat_minor": 0,
  "metadata": {
    "colab": {
      "name": "svm_classification.ipynb",
      "provenance": [],
      "collapsed_sections": []
    },
    "kernelspec": {
      "name": "python3",
      "display_name": "Python 3"
    },
    "language_info": {
      "name": "python"
    }
  },
  "cells": [
    {
      "cell_type": "code",
      "metadata": {
        "colab": {
          "base_uri": "https://localhost:8080/"
        },
        "id": "NWFaCrJUhzXw",
        "outputId": "9ac674c3-5ed6-4235-ba14-3c4a68a9bb5a"
      },
      "source": [
        "pip install mahotas"
      ],
      "execution_count": 699,
      "outputs": [
        {
          "output_type": "stream",
          "text": [
            "Requirement already satisfied: mahotas in /usr/local/lib/python3.7/dist-packages (1.4.11)\n",
            "Requirement already satisfied: numpy in /usr/local/lib/python3.7/dist-packages (from mahotas) (1.19.5)\n"
          ],
          "name": "stdout"
        }
      ]
    },
    {
      "cell_type": "code",
      "metadata": {
        "id": "xMmKRZYL4EDh"
      },
      "source": [
        "import numpy as np\n",
        "import pandas as pd\n",
        "import os\n",
        "import string\n",
        "import matplotlib.pyplot as plt\n",
        "from sklearn.utils import shuffle\n",
        "import mahotas \n",
        "import cv2\n",
        "import os\n",
        "import sys"
      ],
      "execution_count": 700,
      "outputs": []
    },
    {
      "cell_type": "code",
      "metadata": {
        "id": "ESK7sYx_4ND-"
      },
      "source": [
        "dataset = pd.read_csv(\"data.csv\")"
      ],
      "execution_count": 701,
      "outputs": []
    },
    {
      "cell_type": "code",
      "metadata": {
        "id": "C8-f1feu4QlT"
      },
      "source": [
        "dataset.head(5)\n",
        "dataset = shuffle(dataset)"
      ],
      "execution_count": 702,
      "outputs": []
    },
    {
      "cell_type": "code",
      "metadata": {
        "id": "WQMyp5W5aH7E"
      },
      "source": [
        "#import seaborn as sns\n",
        "#sns.pairplot(dataset,hue='isHealthy',palette='Dark2')"
      ],
      "execution_count": 703,
      "outputs": []
    },
    {
      "cell_type": "code",
      "metadata": {
        "id": "gyck-aM346kC"
      },
      "source": [
        "#Healthy\n",
        "health_list = []\n",
        "for d in dataset['isHealthy']:\n",
        "  if \"Healthy\" in d:\n",
        "    health_list.append(0)\n",
        "  else:\n",
        "    health_list.append(1)"
      ],
      "execution_count": 704,
      "outputs": []
    },
    {
      "cell_type": "code",
      "metadata": {
        "colab": {
          "base_uri": "https://localhost:8080/"
        },
        "id": "AtYRByCj52KK",
        "outputId": "b42dd311-7856-42e8-ca1f-b22cfa11463f"
      },
      "source": [
        "#np.set_printoptions(threshold=sys.maxsize)\n",
        "y = np.array(health_list)\n",
        "print(y)"
      ],
      "execution_count": 705,
      "outputs": [
        {
          "output_type": "stream",
          "text": [
            "[1 1 0 1 1 1 1 0 1 0 1 1 0 1 1 0 0 1 1 1 1 1 1 1 0 0 1 1 1 1 1 0 1 0 1 1 1\n",
            " 1 0 1 1 1 1 1 0 1 1 0 1 1 1 1 1 0 0 1 1 1 0 1 1 1 1 1 1 1 1 1 1 1 1 0 0 1\n",
            " 0 1 1 1 1 0 0 0 1 1 1 1 1 1 0 0 1 1 0 1 0 1 1 1 0 1 0 1 1 1 1 1 1 0 1 1 0\n",
            " 1 1 1 0 1 1 1 1 0 1 1 1 0 0 0 0 1 1 1 1 1 1 1 1 1 1 1 1 1 1 1 1 1 1 0 0 1\n",
            " 0 1 0 1 1 1 1 1 1 1 1 0 1 1 1 0 1 1 0 0 1 1 1 1 1 1 1 1 1 1 1 0 1 0 1 1 1\n",
            " 1 1 1 0 1 1 1 1 1 1 1 1 1 1 1 1 1 0 1 0 0 1 1 1 1 1 1 1 1 0 0 1 1 1 0 0 0\n",
            " 1 1 0 1 1 1 1 1 0 0 0 1 1 0 1 0 1 1 1 1 1 0 1 1 1 1 1 0 0 0 1 0 1 0 1 1 1\n",
            " 1 1 1 1 1 1 0 0 1 1 0 1 0 0 1 1 1 1 0 1 1 1 1 1 0 0 1 1 1 1 1 1 1 1 1 1 1\n",
            " 1 1 1 1 1 1 1 1 1 1 1 1 1 1 1 1 1 1 0 1 1 1 1 1 1 1 1 1 0 1 0 1 1 0 0 1 1\n",
            " 1 1 1 1 1 1 0 1 1 1 1 1 1 1 1 1 1 1 1 1 0 1 1 0 1 1 1 1 0 0 1 1 1 1 1 1 1\n",
            " 0 1 1 1 1 0 0 1 0 1 1 1 0 1 1 1 0 0 0 1 0 0 0 1 1 0 1 1 1 1 1 0 1 0 1 0 1\n",
            " 1 1 1 0 1 1 1 0 1 0 1 1 1 1 0 1 0 1 1 1 1 0 1 1 0 1 1 1 1 0 0 1 1 0 0 1 1\n",
            " 1 0 1 1 0 0 1 1 1 1 1 1 0 1 0 1 0 0 1 1 1 1 1 1 1 1 1 1 1 1 0 1 1 1 1 1 1\n",
            " 0 1 1 1 1 1 0 1 1 1 1 1 1 0 0 0 0 1 0 1 1 0 1 1 1 1 1 1 1 1 1 1 1 1 1 1 1\n",
            " 1 1 1 1 1 0 1 1 0 1 1 1 1 1 1 1 1 0 1 0 1 1 1 1 1 1 1 0 1 1 1 1 1 1 1 0 1\n",
            " 1 1 1 1 1 1 0 1 1 0 1 0 0 1 1 1 1 1 1 1 0 1 1 1 1 0 1 0 1 1 1 0 0 0 0 0 1\n",
            " 1 1 1 0 1 1 1 1 1 1 1 0 1 0 0 1 1 1 1 0 0 1 1 1 1 1 1 1 1 1 1 1 0 0 1 0 0\n",
            " 1 1 0 1 1 1 1 1 1 1 1 1 1 1 1 1 0 1 1 0 1 1 1 1 1 1 1 1 1 1 1 0 1 1 1 0 1\n",
            " 1 1 1 1 1 1 1 1 1 1 1 1 1 1 1 1 0 1 0 0 1 1 0 1 1 1 1 0 1 1 1 0 1 1 1 1 1\n",
            " 1 1 1 1 0 1 1 0 1 1 0 1 1 1 1 1 0 1 0 1 1 0 1 1 1 1 0 0 1 1 0 0 1 1 1 1 1\n",
            " 1 1 1 0 1 1 0 1 1 1 1 1 0 0 1 1 0 1 1 1 0 0 0 1 1 1 1 1 1 0 1 1 1 0 1 1 1\n",
            " 1 0 1 1 1 0 1 1 0 1 1 1 1 1 0 1 1 1 0 0 1 1 1 1 1 1 1 0 1 0 0 1 1 0 1 1 1\n",
            " 1 1 1 1 1 1 1 1 1 0 0 0 0 0 1 1 0 1 0 1 1 1 0 1 1 1 1 0 1 1 1 0 1 0 0 1 1\n",
            " 1 1 1 1 1 0 1 1 1 1 1 1 1 1 1 1 1 0 1 0 1 1 0 1 1 1 0 1 0 1 1 1 0 1 1 1 1\n",
            " 0 1 1 1 0 1 1 0 1 1 1 1 0 1 1 1 1 1 1 1 0 0 1 1 0 1 1 0 1 1 0 1 0 1 0 1 1\n",
            " 0 1 0 1 1 1 1 1 0 1 1 1 1 0 0 1 1 1 1 1 0 1 1 1 1 0 0 1 1 1 0 1 1 0 1 1 1\n",
            " 0 1 0 0 1 1 1 1 0 1 1 1 1 1 1 0 0 1 1 1 0 1 1 0 1 1 1 1 0 0 1 1 0 1 1 1 0\n",
            " 1 1 1 1 0 1 1 1 0 1 1 1 1 1 0 1 1 1 0 1 1 1 1 1 1 1 1 1 1 1 1 1 0 0 0 1 1\n",
            " 1 1 1 1 1 1 1 0 1 1 1 1 1 1 1 1 1 0 1 1 1 1 0 1 1 1 1 1 1 1 1 1 1 1 1 1 0\n",
            " 1 1 0 1 1 1 1 1 1 0 0 1 1 1 0 0 1 0 0 1 1 1 1 1 1 1 1 1 1 1 1 0 0 1 0 1 1\n",
            " 0 1 0 1 1 1 0 1 0 0 1 0 1 1 1 0 1 1 1 1 0 1 1 1 1 1 1 0 0 1 0 1 1 0 1 0 0\n",
            " 1 1 1 0 1 1 1 1 1 0 0 1 1 1 1 1 0 1 1 1 1 1 1 1 1 1 1 0 1 1 1 0 1 1 0 0 0\n",
            " 1 0 1 1 0 1 0 1 0 1 1 1 0 1 1 0 1 0 1 0 1 1 1 1 0 1 1 0 1 1 1 0 0 1 1 1 0\n",
            " 1 1 1 1 0 1 1 1 1 1 1 1 1 1 1 0 1 1 0 1 1 1 1 0 1 1 1 1 1 1 0 0 1 1 1 1 1\n",
            " 1 1 1 0 1 0 0 1 1 0 1 1 0 0 0 1 1 0 1 1 1 1 1 1 0 0 1 1 0 0 1 1 1 1 1 0 0\n",
            " 1 1 0 0 0 1 1 1 1 0 1 1 1 1 1 0 1 1 1 1 1 0 0 1 1 0 1 1 1 1 1 0 1 1 1 0 0\n",
            " 1 0 0 1 1 1 1 1 1 1 1 0 0 1 1 0 1 1 1 0 0 0 1 0 1 1 1 0 1 1 1 1 1 1 0 1 1\n",
            " 1 1 1 1 1 1 1 1 0 0 1 1 1 0 1 0 1 1 1 1 1 0 0 1 1 1 1 1 1 1 1 1 1 0 1 1 1\n",
            " 1 1 1 0 1 0 1 1 1 1 1 1 1 1 1 0 1 1 1 0 0 1 0 1 1 1 1 1 1 1 1 1 0 1 1 1 1\n",
            " 1 1 1 1 1 1 1 0 1 1 1 1 1 1 1 1 0 1 1 1 0 1 0 1 1 1 0 1 1 1 1 1 1 1 0 0 1\n",
            " 1 1 1 0 1 1 1 0 1 0 1 1 1 1 1 1 1 1 0 1 0 0 0 1 1 0 0 0 1 1 0 1 1 1 0 1 1\n",
            " 1 0 1 1 0 1 1 1 1 1 1 1 1 1 1 0 1 0 1 1 0 0 1 1 1 1 0 1 1 1 1 1 1 1 1 1 1\n",
            " 1 0 1 1 1 0 1 1 1 1 0 0 1 1 1 1 1 0 1 1 1 0 1 1 1 1 1 1 0 0 1 1 1 1 0 0 1\n",
            " 1 0 1 0 1 1 1 1 1 1 1 1 1 1 1 0 1 1 0 1 1 0 1 1 1 1 1 1 0 1 1 1 1 1 1 1 1\n",
            " 1 1 0 0 0 1 0 0 1 1 1 1 1 0 1 1 0 1 1 0 0 1 1 1 1 1 0 0 0 0 1 0 1 1 1 1 1\n",
            " 0 1 1 1 0 0 1 0 0 1 1 1 1 1 1 1 1 1 0 1 1 1 1 1 1 1 1]\n"
          ],
          "name": "stdout"
        }
      ]
    },
    {
      "cell_type": "code",
      "metadata": {
        "id": "d0MY3fqe6C-b"
      },
      "source": [
        "X = dataset.iloc[:,2:]"
      ],
      "execution_count": 706,
      "outputs": []
    },
    {
      "cell_type": "code",
      "metadata": {
        "colab": {
          "base_uri": "https://localhost:8080/",
          "height": 224
        },
        "id": "TQd9BO9l6F57",
        "outputId": "975032ac-f5b0-4b53-aa60-1a0e172858a4"
      },
      "source": [
        "X.head(5)"
      ],
      "execution_count": 707,
      "outputs": [
        {
          "output_type": "execute_result",
          "data": {
            "text/html": [
              "<div>\n",
              "<style scoped>\n",
              "    .dataframe tbody tr th:only-of-type {\n",
              "        vertical-align: middle;\n",
              "    }\n",
              "\n",
              "    .dataframe tbody tr th {\n",
              "        vertical-align: top;\n",
              "    }\n",
              "\n",
              "    .dataframe thead th {\n",
              "        text-align: right;\n",
              "    }\n",
              "</style>\n",
              "<table border=\"1\" class=\"dataframe\">\n",
              "  <thead>\n",
              "    <tr style=\"text-align: right;\">\n",
              "      <th></th>\n",
              "      <th>mean_r</th>\n",
              "      <th>mean_g</th>\n",
              "      <th>mean_b</th>\n",
              "      <th>stddev_r</th>\n",
              "      <th>stddev_g</th>\n",
              "      <th>stddev_b</th>\n",
              "      <th>contrast</th>\n",
              "      <th>correlation</th>\n",
              "      <th>inverse_difference_moments</th>\n",
              "      <th>entropy</th>\n",
              "    </tr>\n",
              "  </thead>\n",
              "  <tbody>\n",
              "    <tr>\n",
              "      <th>1515</th>\n",
              "      <td>132.622635</td>\n",
              "      <td>126.779144</td>\n",
              "      <td>79.146667</td>\n",
              "      <td>31.591575</td>\n",
              "      <td>34.055904</td>\n",
              "      <td>51.680320</td>\n",
              "      <td>501.460215</td>\n",
              "      <td>0.773464</td>\n",
              "      <td>0.089057</td>\n",
              "      <td>13.050286</td>\n",
              "    </tr>\n",
              "    <tr>\n",
              "      <th>470</th>\n",
              "      <td>112.062424</td>\n",
              "      <td>111.573044</td>\n",
              "      <td>99.590851</td>\n",
              "      <td>63.561263</td>\n",
              "      <td>62.805735</td>\n",
              "      <td>66.840491</td>\n",
              "      <td>983.378043</td>\n",
              "      <td>0.875832</td>\n",
              "      <td>0.133000</td>\n",
              "      <td>13.686519</td>\n",
              "    </tr>\n",
              "    <tr>\n",
              "      <th>958</th>\n",
              "      <td>111.009750</td>\n",
              "      <td>127.253754</td>\n",
              "      <td>104.134598</td>\n",
              "      <td>51.707196</td>\n",
              "      <td>34.726818</td>\n",
              "      <td>52.678837</td>\n",
              "      <td>279.453239</td>\n",
              "      <td>0.917005</td>\n",
              "      <td>0.176659</td>\n",
              "      <td>12.387476</td>\n",
              "    </tr>\n",
              "    <tr>\n",
              "      <th>155</th>\n",
              "      <td>123.337433</td>\n",
              "      <td>112.434082</td>\n",
              "      <td>91.872543</td>\n",
              "      <td>52.015997</td>\n",
              "      <td>37.540111</td>\n",
              "      <td>47.670729</td>\n",
              "      <td>114.049819</td>\n",
              "      <td>0.968141</td>\n",
              "      <td>0.209369</td>\n",
              "      <td>11.950106</td>\n",
              "    </tr>\n",
              "    <tr>\n",
              "      <th>1580</th>\n",
              "      <td>110.656693</td>\n",
              "      <td>121.588501</td>\n",
              "      <td>99.922073</td>\n",
              "      <td>46.989459</td>\n",
              "      <td>42.153459</td>\n",
              "      <td>52.530412</td>\n",
              "      <td>184.106674</td>\n",
              "      <td>0.952600</td>\n",
              "      <td>0.156061</td>\n",
              "      <td>12.673297</td>\n",
              "    </tr>\n",
              "  </tbody>\n",
              "</table>\n",
              "</div>"
            ],
            "text/plain": [
              "          mean_r      mean_g  ...  inverse_difference_moments    entropy\n",
              "1515  132.622635  126.779144  ...                    0.089057  13.050286\n",
              "470   112.062424  111.573044  ...                    0.133000  13.686519\n",
              "958   111.009750  127.253754  ...                    0.176659  12.387476\n",
              "155   123.337433  112.434082  ...                    0.209369  11.950106\n",
              "1580  110.656693  121.588501  ...                    0.156061  12.673297\n",
              "\n",
              "[5 rows x 10 columns]"
            ]
          },
          "metadata": {
            "tags": []
          },
          "execution_count": 707
        }
      ]
    },
    {
      "cell_type": "code",
      "metadata": {
        "id": "TxwglSPP6KP9"
      },
      "source": [
        "from sklearn.model_selection import train_test_split"
      ],
      "execution_count": 708,
      "outputs": []
    },
    {
      "cell_type": "code",
      "metadata": {
        "colab": {
          "base_uri": "https://localhost:8080/"
        },
        "id": "kM43MQDH7NWO",
        "outputId": "6882c605-02df-41e2-9fdc-fd0baa96a357"
      },
      "source": [
        "train_ratio = 0.70\n",
        "validation_ratio = 0.10\n",
        "test_ratio = 0.20\n",
        "\n",
        "#X= shuffle(X)\n",
        "\n",
        "# test is now 20% of the initial data set\n",
        "x_train, x_test, y_train, y_test = train_test_split(X, y, test_size=test_ratio)\n",
        "\n",
        "# train is now 70% of the entire data set\n",
        "# validation is now 10% of the initial data set\n",
        "x_train,x_val,y_train ,y_val = train_test_split(x_train, y_train, test_size=validation_ratio/(train_ratio + validation_ratio)) \n",
        "#print(x_train, x_val, x_test)\n",
        "print(len(x_train), len(x_val), len(x_test))\n",
        "\n"
      ],
      "execution_count": 709,
      "outputs": [
        {
          "output_type": "stream",
          "text": [
            "1183 170 339\n"
          ],
          "name": "stdout"
        }
      ]
    },
    {
      "cell_type": "code",
      "metadata": {
        "id": "HXhz4i1k8N03"
      },
      "source": [
        "from sklearn.preprocessing import StandardScaler"
      ],
      "execution_count": 710,
      "outputs": []
    },
    {
      "cell_type": "code",
      "metadata": {
        "id": "vUvhpOCR8PYx"
      },
      "source": [
        "sc_X = StandardScaler()\n",
        "X_train = sc_X.fit(x_train)\n",
        "X_train = sc_X.transform(x_train)\n",
        "X_val = sc_X.transform(x_val)\n",
        "X_test = sc_X.transform(x_test)"
      ],
      "execution_count": 711,
      "outputs": []
    },
    {
      "cell_type": "code",
      "metadata": {
        "id": "Z0SCqmwW8b7r"
      },
      "source": [
        "from sklearn import svm\n",
        "from sklearn import metrics\n",
        "from sklearn.model_selection import GridSearchCV"
      ],
      "execution_count": 712,
      "outputs": []
    },
    {
      "cell_type": "code",
      "metadata": {
        "colab": {
          "base_uri": "https://localhost:8080/"
        },
        "id": "RJ3IhVV4_vyH",
        "outputId": "facd0bca-2780-4cb9-ddbc-44e6cfd1a386"
      },
      "source": [
        "# training model with different hyperparameters\n",
        "\n",
        "svm_model = svm.SVC()\n",
        "\n",
        "svm_model.fit(X_train, y_train)\n",
        "predictions = svm_model.predict(X_val)\n",
        "\n",
        "\n",
        "svm_model2 = svm.SVC(C=1, kernel='linear')\n",
        "svm_model2.fit(X_train, y_train)\n",
        "predictions2 = svm_model2.predict(X_val)\n",
        "\n",
        "\n",
        "svm_model3 = svm.SVC(C=10, gamma=0.5, kernel='rbf')\n",
        "svm_model3.fit(X_train, y_train)\n",
        "predictions3 = svm_model3.predict(X_val)\n",
        "\n",
        "print(\"Val accuracy, no hyperparameters -->\" , metrics.accuracy_score(y_val, predictions))\n",
        "print(\"Val accuracy, C=1, kernel=linear -->\" , metrics.accuracy_score(y_val, predictions2))\n",
        "print(\"Val accuracy C=10, gamma=0.5, kernel=rbf -->\" , metrics.accuracy_score(y_val, predictions3))"
      ],
      "execution_count": 713,
      "outputs": [
        {
          "output_type": "stream",
          "text": [
            "Val accuracy, no hyperparameters --> 0.9823529411764705\n",
            "Val accuracy, C=1, kernel=linear --> 0.9588235294117647\n",
            "Val accuracy C=10, gamma=0.5, kernel=rbf --> 0.9705882352941176\n"
          ],
          "name": "stdout"
        }
      ]
    },
    {
      "cell_type": "code",
      "metadata": {
        "id": "vdIweG_W9BwJ"
      },
      "source": [
        "#Tuning hyperparameters using GridSearchCV\n",
        "\n",
        "param_grid = [{'C': [0.1,1, 10, 100], 'gamma': [1,0.5,0.2,0.1,0.01,0.001],'kernel': ['rbf', 'sigmoid']},\n",
        "              {'C': [1, 10, 100, 1000], 'kernel': ['linear']}]"
      ],
      "execution_count": 714,
      "outputs": []
    },
    {
      "cell_type": "code",
      "metadata": {
        "colab": {
          "base_uri": "https://localhost:8080/"
        },
        "id": "iO_PoR929Fav",
        "outputId": "38ba56a6-32fd-449f-95a4-b1814f07a5b3"
      },
      "source": [
        "grid = GridSearchCV(svm.SVC(),param_grid,refit=True,verbose=2, cv=5)\n",
        "grid.fit(X_train,y_train)"
      ],
      "execution_count": 715,
      "outputs": [
        {
          "output_type": "stream",
          "text": [
            "Fitting 5 folds for each of 52 candidates, totalling 260 fits\n",
            "[CV] C=0.1, gamma=1, kernel=rbf ......................................\n",
            "[CV] ....................... C=0.1, gamma=1, kernel=rbf, total=   0.1s\n",
            "[CV] C=0.1, gamma=1, kernel=rbf ......................................\n",
            "[CV] ....................... C=0.1, gamma=1, kernel=rbf, total=   0.0s\n",
            "[CV] C=0.1, gamma=1, kernel=rbf ......................................\n",
            "[CV] ....................... C=0.1, gamma=1, kernel=rbf, total=   0.1s\n",
            "[CV] C=0.1, gamma=1, kernel=rbf ......................................\n"
          ],
          "name": "stdout"
        },
        {
          "output_type": "stream",
          "text": [
            "[Parallel(n_jobs=1)]: Using backend SequentialBackend with 1 concurrent workers.\n",
            "[Parallel(n_jobs=1)]: Done   1 out of   1 | elapsed:    0.1s remaining:    0.0s\n"
          ],
          "name": "stderr"
        },
        {
          "output_type": "stream",
          "text": [
            "[CV] ....................... C=0.1, gamma=1, kernel=rbf, total=   0.1s\n",
            "[CV] C=0.1, gamma=1, kernel=rbf ......................................\n",
            "[CV] ....................... C=0.1, gamma=1, kernel=rbf, total=   0.0s\n",
            "[CV] C=0.1, gamma=1, kernel=sigmoid ..................................\n",
            "[CV] ................... C=0.1, gamma=1, kernel=sigmoid, total=   0.0s\n",
            "[CV] C=0.1, gamma=1, kernel=sigmoid ..................................\n",
            "[CV] ................... C=0.1, gamma=1, kernel=sigmoid, total=   0.0s\n",
            "[CV] C=0.1, gamma=1, kernel=sigmoid ..................................\n",
            "[CV] ................... C=0.1, gamma=1, kernel=sigmoid, total=   0.0s\n",
            "[CV] C=0.1, gamma=1, kernel=sigmoid ..................................\n",
            "[CV] ................... C=0.1, gamma=1, kernel=sigmoid, total=   0.0s\n",
            "[CV] C=0.1, gamma=1, kernel=sigmoid ..................................\n",
            "[CV] ................... C=0.1, gamma=1, kernel=sigmoid, total=   0.0s\n",
            "[CV] C=0.1, gamma=0.5, kernel=rbf ....................................\n",
            "[CV] ..................... C=0.1, gamma=0.5, kernel=rbf, total=   0.0s\n",
            "[CV] C=0.1, gamma=0.5, kernel=rbf ....................................\n",
            "[CV] ..................... C=0.1, gamma=0.5, kernel=rbf, total=   0.0s\n",
            "[CV] C=0.1, gamma=0.5, kernel=rbf ....................................\n",
            "[CV] ..................... C=0.1, gamma=0.5, kernel=rbf, total=   0.0s\n",
            "[CV] C=0.1, gamma=0.5, kernel=rbf ....................................\n",
            "[CV] ..................... C=0.1, gamma=0.5, kernel=rbf, total=   0.0s\n",
            "[CV] C=0.1, gamma=0.5, kernel=rbf ....................................\n",
            "[CV] ..................... C=0.1, gamma=0.5, kernel=rbf, total=   0.0s\n",
            "[CV] C=0.1, gamma=0.5, kernel=sigmoid ................................\n",
            "[CV] ................. C=0.1, gamma=0.5, kernel=sigmoid, total=   0.0s\n",
            "[CV] C=0.1, gamma=0.5, kernel=sigmoid ................................\n",
            "[CV] ................. C=0.1, gamma=0.5, kernel=sigmoid, total=   0.0s\n",
            "[CV] C=0.1, gamma=0.5, kernel=sigmoid ................................\n",
            "[CV] ................. C=0.1, gamma=0.5, kernel=sigmoid, total=   0.0s\n",
            "[CV] C=0.1, gamma=0.5, kernel=sigmoid ................................\n",
            "[CV] ................. C=0.1, gamma=0.5, kernel=sigmoid, total=   0.0s\n",
            "[CV] C=0.1, gamma=0.5, kernel=sigmoid ................................\n",
            "[CV] ................. C=0.1, gamma=0.5, kernel=sigmoid, total=   0.0s\n",
            "[CV] C=0.1, gamma=0.2, kernel=rbf ....................................\n",
            "[CV] ..................... C=0.1, gamma=0.2, kernel=rbf, total=   0.0s\n",
            "[CV] C=0.1, gamma=0.2, kernel=rbf ....................................\n",
            "[CV] ..................... C=0.1, gamma=0.2, kernel=rbf, total=   0.0s\n",
            "[CV] C=0.1, gamma=0.2, kernel=rbf ....................................\n",
            "[CV] ..................... C=0.1, gamma=0.2, kernel=rbf, total=   0.0s\n",
            "[CV] C=0.1, gamma=0.2, kernel=rbf ....................................\n",
            "[CV] ..................... C=0.1, gamma=0.2, kernel=rbf, total=   0.0s\n",
            "[CV] C=0.1, gamma=0.2, kernel=rbf ....................................\n",
            "[CV] ..................... C=0.1, gamma=0.2, kernel=rbf, total=   0.0s\n",
            "[CV] C=0.1, gamma=0.2, kernel=sigmoid ................................\n",
            "[CV] ................. C=0.1, gamma=0.2, kernel=sigmoid, total=   0.0s\n",
            "[CV] C=0.1, gamma=0.2, kernel=sigmoid ................................\n",
            "[CV] ................. C=0.1, gamma=0.2, kernel=sigmoid, total=   0.0s\n",
            "[CV] C=0.1, gamma=0.2, kernel=sigmoid ................................\n",
            "[CV] ................. C=0.1, gamma=0.2, kernel=sigmoid, total=   0.0s\n",
            "[CV] C=0.1, gamma=0.2, kernel=sigmoid ................................\n",
            "[CV] ................. C=0.1, gamma=0.2, kernel=sigmoid, total=   0.0s\n",
            "[CV] C=0.1, gamma=0.2, kernel=sigmoid ................................\n",
            "[CV] ................. C=0.1, gamma=0.2, kernel=sigmoid, total=   0.0s\n",
            "[CV] C=0.1, gamma=0.1, kernel=rbf ....................................\n",
            "[CV] ..................... C=0.1, gamma=0.1, kernel=rbf, total=   0.0s\n",
            "[CV] C=0.1, gamma=0.1, kernel=rbf ....................................\n",
            "[CV] ..................... C=0.1, gamma=0.1, kernel=rbf, total=   0.0s\n",
            "[CV] C=0.1, gamma=0.1, kernel=rbf ....................................\n",
            "[CV] ..................... C=0.1, gamma=0.1, kernel=rbf, total=   0.0s\n",
            "[CV] C=0.1, gamma=0.1, kernel=rbf ....................................\n",
            "[CV] ..................... C=0.1, gamma=0.1, kernel=rbf, total=   0.0s\n",
            "[CV] C=0.1, gamma=0.1, kernel=rbf ....................................\n",
            "[CV] ..................... C=0.1, gamma=0.1, kernel=rbf, total=   0.0s\n",
            "[CV] C=0.1, gamma=0.1, kernel=sigmoid ................................\n",
            "[CV] ................. C=0.1, gamma=0.1, kernel=sigmoid, total=   0.0s\n",
            "[CV] C=0.1, gamma=0.1, kernel=sigmoid ................................\n",
            "[CV] ................. C=0.1, gamma=0.1, kernel=sigmoid, total=   0.0s\n",
            "[CV] C=0.1, gamma=0.1, kernel=sigmoid ................................\n",
            "[CV] ................. C=0.1, gamma=0.1, kernel=sigmoid, total=   0.0s\n",
            "[CV] C=0.1, gamma=0.1, kernel=sigmoid ................................\n",
            "[CV] ................. C=0.1, gamma=0.1, kernel=sigmoid, total=   0.0s\n",
            "[CV] C=0.1, gamma=0.1, kernel=sigmoid ................................\n",
            "[CV] ................. C=0.1, gamma=0.1, kernel=sigmoid, total=   0.0s\n",
            "[CV] C=0.1, gamma=0.01, kernel=rbf ...................................\n",
            "[CV] .................... C=0.1, gamma=0.01, kernel=rbf, total=   0.0s\n",
            "[CV] C=0.1, gamma=0.01, kernel=rbf ...................................\n",
            "[CV] .................... C=0.1, gamma=0.01, kernel=rbf, total=   0.0s\n",
            "[CV] C=0.1, gamma=0.01, kernel=rbf ...................................\n",
            "[CV] .................... C=0.1, gamma=0.01, kernel=rbf, total=   0.0s\n",
            "[CV] C=0.1, gamma=0.01, kernel=rbf ...................................\n",
            "[CV] .................... C=0.1, gamma=0.01, kernel=rbf, total=   0.0s\n",
            "[CV] C=0.1, gamma=0.01, kernel=rbf ...................................\n",
            "[CV] .................... C=0.1, gamma=0.01, kernel=rbf, total=   0.0s\n",
            "[CV] C=0.1, gamma=0.01, kernel=sigmoid ...............................\n",
            "[CV] ................ C=0.1, gamma=0.01, kernel=sigmoid, total=   0.0s\n",
            "[CV] C=0.1, gamma=0.01, kernel=sigmoid ...............................\n",
            "[CV] ................ C=0.1, gamma=0.01, kernel=sigmoid, total=   0.0s\n",
            "[CV] C=0.1, gamma=0.01, kernel=sigmoid ...............................\n",
            "[CV] ................ C=0.1, gamma=0.01, kernel=sigmoid, total=   0.0s\n",
            "[CV] C=0.1, gamma=0.01, kernel=sigmoid ...............................\n",
            "[CV] ................ C=0.1, gamma=0.01, kernel=sigmoid, total=   0.0s\n",
            "[CV] C=0.1, gamma=0.01, kernel=sigmoid ...............................\n",
            "[CV] ................ C=0.1, gamma=0.01, kernel=sigmoid, total=   0.0s\n",
            "[CV] C=0.1, gamma=0.001, kernel=rbf ..................................\n",
            "[CV] ................... C=0.1, gamma=0.001, kernel=rbf, total=   0.0s\n",
            "[CV] C=0.1, gamma=0.001, kernel=rbf ..................................\n",
            "[CV] ................... C=0.1, gamma=0.001, kernel=rbf, total=   0.0s\n",
            "[CV] C=0.1, gamma=0.001, kernel=rbf ..................................\n",
            "[CV] ................... C=0.1, gamma=0.001, kernel=rbf, total=   0.0s\n",
            "[CV] C=0.1, gamma=0.001, kernel=rbf ..................................\n",
            "[CV] ................... C=0.1, gamma=0.001, kernel=rbf, total=   0.0s\n",
            "[CV] C=0.1, gamma=0.001, kernel=rbf ..................................\n",
            "[CV] ................... C=0.1, gamma=0.001, kernel=rbf, total=   0.0s\n",
            "[CV] C=0.1, gamma=0.001, kernel=sigmoid ..............................\n",
            "[CV] ............... C=0.1, gamma=0.001, kernel=sigmoid, total=   0.0s\n",
            "[CV] C=0.1, gamma=0.001, kernel=sigmoid ..............................\n",
            "[CV] ............... C=0.1, gamma=0.001, kernel=sigmoid, total=   0.0s\n",
            "[CV] C=0.1, gamma=0.001, kernel=sigmoid ..............................\n",
            "[CV] ............... C=0.1, gamma=0.001, kernel=sigmoid, total=   0.0s\n",
            "[CV] C=0.1, gamma=0.001, kernel=sigmoid ..............................\n",
            "[CV] ............... C=0.1, gamma=0.001, kernel=sigmoid, total=   0.0s\n",
            "[CV] C=0.1, gamma=0.001, kernel=sigmoid ..............................\n",
            "[CV] ............... C=0.1, gamma=0.001, kernel=sigmoid, total=   0.0s\n",
            "[CV] C=1, gamma=1, kernel=rbf ........................................\n",
            "[CV] ......................... C=1, gamma=1, kernel=rbf, total=   0.1s\n",
            "[CV] C=1, gamma=1, kernel=rbf ........................................\n",
            "[CV] ......................... C=1, gamma=1, kernel=rbf, total=   0.1s\n",
            "[CV] C=1, gamma=1, kernel=rbf ........................................\n",
            "[CV] ......................... C=1, gamma=1, kernel=rbf, total=   0.1s\n",
            "[CV] C=1, gamma=1, kernel=rbf ........................................\n",
            "[CV] ......................... C=1, gamma=1, kernel=rbf, total=   0.1s\n",
            "[CV] C=1, gamma=1, kernel=rbf ........................................\n",
            "[CV] ......................... C=1, gamma=1, kernel=rbf, total=   0.1s\n",
            "[CV] C=1, gamma=1, kernel=sigmoid ....................................\n",
            "[CV] ..................... C=1, gamma=1, kernel=sigmoid, total=   0.0s\n",
            "[CV] C=1, gamma=1, kernel=sigmoid ....................................\n",
            "[CV] ..................... C=1, gamma=1, kernel=sigmoid, total=   0.0s\n",
            "[CV] C=1, gamma=1, kernel=sigmoid ....................................\n",
            "[CV] ..................... C=1, gamma=1, kernel=sigmoid, total=   0.0s\n",
            "[CV] C=1, gamma=1, kernel=sigmoid ....................................\n",
            "[CV] ..................... C=1, gamma=1, kernel=sigmoid, total=   0.0s\n",
            "[CV] C=1, gamma=1, kernel=sigmoid ....................................\n",
            "[CV] ..................... C=1, gamma=1, kernel=sigmoid, total=   0.0s\n",
            "[CV] C=1, gamma=0.5, kernel=rbf ......................................\n",
            "[CV] ....................... C=1, gamma=0.5, kernel=rbf, total=   0.0s\n",
            "[CV] C=1, gamma=0.5, kernel=rbf ......................................\n",
            "[CV] ....................... C=1, gamma=0.5, kernel=rbf, total=   0.0s\n",
            "[CV] C=1, gamma=0.5, kernel=rbf ......................................\n",
            "[CV] ....................... C=1, gamma=0.5, kernel=rbf, total=   0.0s\n",
            "[CV] C=1, gamma=0.5, kernel=rbf ......................................\n",
            "[CV] ....................... C=1, gamma=0.5, kernel=rbf, total=   0.0s\n",
            "[CV] C=1, gamma=0.5, kernel=rbf ......................................\n",
            "[CV] ....................... C=1, gamma=0.5, kernel=rbf, total=   0.0s\n",
            "[CV] C=1, gamma=0.5, kernel=sigmoid ..................................\n",
            "[CV] ................... C=1, gamma=0.5, kernel=sigmoid, total=   0.0s\n",
            "[CV] C=1, gamma=0.5, kernel=sigmoid ..................................\n",
            "[CV] ................... C=1, gamma=0.5, kernel=sigmoid, total=   0.0s\n",
            "[CV] C=1, gamma=0.5, kernel=sigmoid ..................................\n",
            "[CV] ................... C=1, gamma=0.5, kernel=sigmoid, total=   0.0s\n",
            "[CV] C=1, gamma=0.5, kernel=sigmoid ..................................\n",
            "[CV] ................... C=1, gamma=0.5, kernel=sigmoid, total=   0.0s\n",
            "[CV] C=1, gamma=0.5, kernel=sigmoid ..................................\n",
            "[CV] ................... C=1, gamma=0.5, kernel=sigmoid, total=   0.0s\n",
            "[CV] C=1, gamma=0.2, kernel=rbf ......................................\n",
            "[CV] ....................... C=1, gamma=0.2, kernel=rbf, total=   0.0s\n",
            "[CV] C=1, gamma=0.2, kernel=rbf ......................................\n",
            "[CV] ....................... C=1, gamma=0.2, kernel=rbf, total=   0.0s\n",
            "[CV] C=1, gamma=0.2, kernel=rbf ......................................\n",
            "[CV] ....................... C=1, gamma=0.2, kernel=rbf, total=   0.0s\n",
            "[CV] C=1, gamma=0.2, kernel=rbf ......................................\n",
            "[CV] ....................... C=1, gamma=0.2, kernel=rbf, total=   0.0s\n",
            "[CV] C=1, gamma=0.2, kernel=rbf ......................................\n",
            "[CV] ....................... C=1, gamma=0.2, kernel=rbf, total=   0.0s\n",
            "[CV] C=1, gamma=0.2, kernel=sigmoid ..................................\n",
            "[CV] ................... C=1, gamma=0.2, kernel=sigmoid, total=   0.0s\n",
            "[CV] C=1, gamma=0.2, kernel=sigmoid ..................................\n",
            "[CV] ................... C=1, gamma=0.2, kernel=sigmoid, total=   0.0s\n",
            "[CV] C=1, gamma=0.2, kernel=sigmoid ..................................\n",
            "[CV] ................... C=1, gamma=0.2, kernel=sigmoid, total=   0.0s\n",
            "[CV] C=1, gamma=0.2, kernel=sigmoid ..................................\n",
            "[CV] ................... C=1, gamma=0.2, kernel=sigmoid, total=   0.0s\n",
            "[CV] C=1, gamma=0.2, kernel=sigmoid ..................................\n",
            "[CV] ................... C=1, gamma=0.2, kernel=sigmoid, total=   0.0s\n",
            "[CV] C=1, gamma=0.1, kernel=rbf ......................................\n",
            "[CV] ....................... C=1, gamma=0.1, kernel=rbf, total=   0.0s\n",
            "[CV] C=1, gamma=0.1, kernel=rbf ......................................\n",
            "[CV] ....................... C=1, gamma=0.1, kernel=rbf, total=   0.0s\n",
            "[CV] C=1, gamma=0.1, kernel=rbf ......................................\n",
            "[CV] ....................... C=1, gamma=0.1, kernel=rbf, total=   0.0s\n",
            "[CV] C=1, gamma=0.1, kernel=rbf ......................................\n",
            "[CV] ....................... C=1, gamma=0.1, kernel=rbf, total=   0.0s\n",
            "[CV] C=1, gamma=0.1, kernel=rbf ......................................\n",
            "[CV] ....................... C=1, gamma=0.1, kernel=rbf, total=   0.0s\n",
            "[CV] C=1, gamma=0.1, kernel=sigmoid ..................................\n",
            "[CV] ................... C=1, gamma=0.1, kernel=sigmoid, total=   0.0s\n",
            "[CV] C=1, gamma=0.1, kernel=sigmoid ..................................\n",
            "[CV] ................... C=1, gamma=0.1, kernel=sigmoid, total=   0.0s\n",
            "[CV] C=1, gamma=0.1, kernel=sigmoid ..................................\n",
            "[CV] ................... C=1, gamma=0.1, kernel=sigmoid, total=   0.0s\n",
            "[CV] C=1, gamma=0.1, kernel=sigmoid ..................................\n",
            "[CV] ................... C=1, gamma=0.1, kernel=sigmoid, total=   0.0s\n",
            "[CV] C=1, gamma=0.1, kernel=sigmoid ..................................\n",
            "[CV] ................... C=1, gamma=0.1, kernel=sigmoid, total=   0.0s\n",
            "[CV] C=1, gamma=0.01, kernel=rbf .....................................\n",
            "[CV] ...................... C=1, gamma=0.01, kernel=rbf, total=   0.0s\n",
            "[CV] C=1, gamma=0.01, kernel=rbf .....................................\n",
            "[CV] ...................... C=1, gamma=0.01, kernel=rbf, total=   0.0s\n",
            "[CV] C=1, gamma=0.01, kernel=rbf .....................................\n",
            "[CV] ...................... C=1, gamma=0.01, kernel=rbf, total=   0.0s\n",
            "[CV] C=1, gamma=0.01, kernel=rbf .....................................\n",
            "[CV] ...................... C=1, gamma=0.01, kernel=rbf, total=   0.0s\n",
            "[CV] C=1, gamma=0.01, kernel=rbf .....................................\n",
            "[CV] ...................... C=1, gamma=0.01, kernel=rbf, total=   0.0s\n",
            "[CV] C=1, gamma=0.01, kernel=sigmoid .................................\n",
            "[CV] .................. C=1, gamma=0.01, kernel=sigmoid, total=   0.0s\n",
            "[CV] C=1, gamma=0.01, kernel=sigmoid .................................\n",
            "[CV] .................. C=1, gamma=0.01, kernel=sigmoid, total=   0.0s\n",
            "[CV] C=1, gamma=0.01, kernel=sigmoid .................................\n",
            "[CV] .................. C=1, gamma=0.01, kernel=sigmoid, total=   0.0s\n",
            "[CV] C=1, gamma=0.01, kernel=sigmoid .................................\n",
            "[CV] .................. C=1, gamma=0.01, kernel=sigmoid, total=   0.0s\n",
            "[CV] C=1, gamma=0.01, kernel=sigmoid .................................\n",
            "[CV] .................. C=1, gamma=0.01, kernel=sigmoid, total=   0.0s\n",
            "[CV] C=1, gamma=0.001, kernel=rbf ....................................\n",
            "[CV] ..................... C=1, gamma=0.001, kernel=rbf, total=   0.0s\n",
            "[CV] C=1, gamma=0.001, kernel=rbf ....................................\n",
            "[CV] ..................... C=1, gamma=0.001, kernel=rbf, total=   0.0s\n",
            "[CV] C=1, gamma=0.001, kernel=rbf ....................................\n",
            "[CV] ..................... C=1, gamma=0.001, kernel=rbf, total=   0.0s\n",
            "[CV] C=1, gamma=0.001, kernel=rbf ....................................\n",
            "[CV] ..................... C=1, gamma=0.001, kernel=rbf, total=   0.0s\n",
            "[CV] C=1, gamma=0.001, kernel=rbf ....................................\n",
            "[CV] ..................... C=1, gamma=0.001, kernel=rbf, total=   0.0s\n",
            "[CV] C=1, gamma=0.001, kernel=sigmoid ................................\n",
            "[CV] ................. C=1, gamma=0.001, kernel=sigmoid, total=   0.0s\n",
            "[CV] C=1, gamma=0.001, kernel=sigmoid ................................\n",
            "[CV] ................. C=1, gamma=0.001, kernel=sigmoid, total=   0.0s\n",
            "[CV] C=1, gamma=0.001, kernel=sigmoid ................................\n",
            "[CV] ................. C=1, gamma=0.001, kernel=sigmoid, total=   0.0s\n",
            "[CV] C=1, gamma=0.001, kernel=sigmoid ................................\n",
            "[CV] ................. C=1, gamma=0.001, kernel=sigmoid, total=   0.0s\n",
            "[CV] C=1, gamma=0.001, kernel=sigmoid ................................\n",
            "[CV] ................. C=1, gamma=0.001, kernel=sigmoid, total=   0.0s\n",
            "[CV] C=10, gamma=1, kernel=rbf .......................................\n",
            "[CV] ........................ C=10, gamma=1, kernel=rbf, total=   0.1s\n",
            "[CV] C=10, gamma=1, kernel=rbf .......................................\n",
            "[CV] ........................ C=10, gamma=1, kernel=rbf, total=   0.1s\n",
            "[CV] C=10, gamma=1, kernel=rbf .......................................\n",
            "[CV] ........................ C=10, gamma=1, kernel=rbf, total=   0.1s\n",
            "[CV] C=10, gamma=1, kernel=rbf .......................................\n",
            "[CV] ........................ C=10, gamma=1, kernel=rbf, total=   0.1s\n",
            "[CV] C=10, gamma=1, kernel=rbf .......................................\n",
            "[CV] ........................ C=10, gamma=1, kernel=rbf, total=   0.1s\n",
            "[CV] C=10, gamma=1, kernel=sigmoid ...................................\n",
            "[CV] .................... C=10, gamma=1, kernel=sigmoid, total=   0.0s\n",
            "[CV] C=10, gamma=1, kernel=sigmoid ...................................\n",
            "[CV] .................... C=10, gamma=1, kernel=sigmoid, total=   0.0s\n",
            "[CV] C=10, gamma=1, kernel=sigmoid ...................................\n",
            "[CV] .................... C=10, gamma=1, kernel=sigmoid, total=   0.0s\n",
            "[CV] C=10, gamma=1, kernel=sigmoid ...................................\n",
            "[CV] .................... C=10, gamma=1, kernel=sigmoid, total=   0.0s\n",
            "[CV] C=10, gamma=1, kernel=sigmoid ...................................\n",
            "[CV] .................... C=10, gamma=1, kernel=sigmoid, total=   0.0s\n",
            "[CV] C=10, gamma=0.5, kernel=rbf .....................................\n",
            "[CV] ...................... C=10, gamma=0.5, kernel=rbf, total=   0.0s\n",
            "[CV] C=10, gamma=0.5, kernel=rbf .....................................\n",
            "[CV] ...................... C=10, gamma=0.5, kernel=rbf, total=   0.0s\n",
            "[CV] C=10, gamma=0.5, kernel=rbf .....................................\n",
            "[CV] ...................... C=10, gamma=0.5, kernel=rbf, total=   0.0s\n",
            "[CV] C=10, gamma=0.5, kernel=rbf .....................................\n",
            "[CV] ...................... C=10, gamma=0.5, kernel=rbf, total=   0.0s\n",
            "[CV] C=10, gamma=0.5, kernel=rbf .....................................\n",
            "[CV] ...................... C=10, gamma=0.5, kernel=rbf, total=   0.0s\n",
            "[CV] C=10, gamma=0.5, kernel=sigmoid .................................\n",
            "[CV] .................. C=10, gamma=0.5, kernel=sigmoid, total=   0.0s\n",
            "[CV] C=10, gamma=0.5, kernel=sigmoid .................................\n",
            "[CV] .................. C=10, gamma=0.5, kernel=sigmoid, total=   0.0s\n",
            "[CV] C=10, gamma=0.5, kernel=sigmoid .................................\n",
            "[CV] .................. C=10, gamma=0.5, kernel=sigmoid, total=   0.0s\n",
            "[CV] C=10, gamma=0.5, kernel=sigmoid .................................\n",
            "[CV] .................. C=10, gamma=0.5, kernel=sigmoid, total=   0.0s\n",
            "[CV] C=10, gamma=0.5, kernel=sigmoid .................................\n",
            "[CV] .................. C=10, gamma=0.5, kernel=sigmoid, total=   0.0s\n",
            "[CV] C=10, gamma=0.2, kernel=rbf .....................................\n",
            "[CV] ...................... C=10, gamma=0.2, kernel=rbf, total=   0.0s\n",
            "[CV] C=10, gamma=0.2, kernel=rbf .....................................\n",
            "[CV] ...................... C=10, gamma=0.2, kernel=rbf, total=   0.0s\n",
            "[CV] C=10, gamma=0.2, kernel=rbf .....................................\n",
            "[CV] ...................... C=10, gamma=0.2, kernel=rbf, total=   0.0s\n",
            "[CV] C=10, gamma=0.2, kernel=rbf .....................................\n",
            "[CV] ...................... C=10, gamma=0.2, kernel=rbf, total=   0.0s\n",
            "[CV] C=10, gamma=0.2, kernel=rbf .....................................\n",
            "[CV] ...................... C=10, gamma=0.2, kernel=rbf, total=   0.0s\n",
            "[CV] C=10, gamma=0.2, kernel=sigmoid .................................\n",
            "[CV] .................. C=10, gamma=0.2, kernel=sigmoid, total=   0.0s\n",
            "[CV] C=10, gamma=0.2, kernel=sigmoid .................................\n",
            "[CV] .................. C=10, gamma=0.2, kernel=sigmoid, total=   0.0s\n",
            "[CV] C=10, gamma=0.2, kernel=sigmoid .................................\n",
            "[CV] .................. C=10, gamma=0.2, kernel=sigmoid, total=   0.0s\n",
            "[CV] C=10, gamma=0.2, kernel=sigmoid .................................\n",
            "[CV] .................. C=10, gamma=0.2, kernel=sigmoid, total=   0.0s\n",
            "[CV] C=10, gamma=0.2, kernel=sigmoid .................................\n",
            "[CV] .................. C=10, gamma=0.2, kernel=sigmoid, total=   0.0s\n",
            "[CV] C=10, gamma=0.1, kernel=rbf .....................................\n",
            "[CV] ...................... C=10, gamma=0.1, kernel=rbf, total=   0.0s\n",
            "[CV] C=10, gamma=0.1, kernel=rbf .....................................\n",
            "[CV] ...................... C=10, gamma=0.1, kernel=rbf, total=   0.0s\n",
            "[CV] C=10, gamma=0.1, kernel=rbf .....................................\n",
            "[CV] ...................... C=10, gamma=0.1, kernel=rbf, total=   0.0s\n",
            "[CV] C=10, gamma=0.1, kernel=rbf .....................................\n",
            "[CV] ...................... C=10, gamma=0.1, kernel=rbf, total=   0.0s\n",
            "[CV] C=10, gamma=0.1, kernel=rbf .....................................\n",
            "[CV] ...................... C=10, gamma=0.1, kernel=rbf, total=   0.0s\n",
            "[CV] C=10, gamma=0.1, kernel=sigmoid .................................\n",
            "[CV] .................. C=10, gamma=0.1, kernel=sigmoid, total=   0.0s\n",
            "[CV] C=10, gamma=0.1, kernel=sigmoid .................................\n",
            "[CV] .................. C=10, gamma=0.1, kernel=sigmoid, total=   0.0s\n",
            "[CV] C=10, gamma=0.1, kernel=sigmoid .................................\n",
            "[CV] .................. C=10, gamma=0.1, kernel=sigmoid, total=   0.0s\n",
            "[CV] C=10, gamma=0.1, kernel=sigmoid .................................\n",
            "[CV] .................. C=10, gamma=0.1, kernel=sigmoid, total=   0.0s\n",
            "[CV] C=10, gamma=0.1, kernel=sigmoid .................................\n",
            "[CV] .................. C=10, gamma=0.1, kernel=sigmoid, total=   0.0s\n",
            "[CV] C=10, gamma=0.01, kernel=rbf ....................................\n",
            "[CV] ..................... C=10, gamma=0.01, kernel=rbf, total=   0.0s\n",
            "[CV] C=10, gamma=0.01, kernel=rbf ....................................\n",
            "[CV] ..................... C=10, gamma=0.01, kernel=rbf, total=   0.0s\n",
            "[CV] C=10, gamma=0.01, kernel=rbf ....................................\n",
            "[CV] ..................... C=10, gamma=0.01, kernel=rbf, total=   0.0s\n",
            "[CV] C=10, gamma=0.01, kernel=rbf ....................................\n",
            "[CV] ..................... C=10, gamma=0.01, kernel=rbf, total=   0.0s\n",
            "[CV] C=10, gamma=0.01, kernel=rbf ....................................\n",
            "[CV] ..................... C=10, gamma=0.01, kernel=rbf, total=   0.0s\n",
            "[CV] C=10, gamma=0.01, kernel=sigmoid ................................\n",
            "[CV] ................. C=10, gamma=0.01, kernel=sigmoid, total=   0.0s\n",
            "[CV] C=10, gamma=0.01, kernel=sigmoid ................................\n",
            "[CV] ................. C=10, gamma=0.01, kernel=sigmoid, total=   0.0s\n",
            "[CV] C=10, gamma=0.01, kernel=sigmoid ................................\n",
            "[CV] ................. C=10, gamma=0.01, kernel=sigmoid, total=   0.0s\n",
            "[CV] C=10, gamma=0.01, kernel=sigmoid ................................\n",
            "[CV] ................. C=10, gamma=0.01, kernel=sigmoid, total=   0.0s\n",
            "[CV] C=10, gamma=0.01, kernel=sigmoid ................................\n",
            "[CV] ................. C=10, gamma=0.01, kernel=sigmoid, total=   0.0s\n",
            "[CV] C=10, gamma=0.001, kernel=rbf ...................................\n",
            "[CV] .................... C=10, gamma=0.001, kernel=rbf, total=   0.0s\n",
            "[CV] C=10, gamma=0.001, kernel=rbf ...................................\n",
            "[CV] .................... C=10, gamma=0.001, kernel=rbf, total=   0.0s\n",
            "[CV] C=10, gamma=0.001, kernel=rbf ...................................\n",
            "[CV] .................... C=10, gamma=0.001, kernel=rbf, total=   0.0s\n",
            "[CV] C=10, gamma=0.001, kernel=rbf ...................................\n",
            "[CV] .................... C=10, gamma=0.001, kernel=rbf, total=   0.0s\n",
            "[CV] C=10, gamma=0.001, kernel=rbf ...................................\n",
            "[CV] .................... C=10, gamma=0.001, kernel=rbf, total=   0.0s\n",
            "[CV] C=10, gamma=0.001, kernel=sigmoid ...............................\n",
            "[CV] ................ C=10, gamma=0.001, kernel=sigmoid, total=   0.0s\n",
            "[CV] C=10, gamma=0.001, kernel=sigmoid ...............................\n",
            "[CV] ................ C=10, gamma=0.001, kernel=sigmoid, total=   0.0s\n",
            "[CV] C=10, gamma=0.001, kernel=sigmoid ...............................\n",
            "[CV] ................ C=10, gamma=0.001, kernel=sigmoid, total=   0.0s\n",
            "[CV] C=10, gamma=0.001, kernel=sigmoid ...............................\n",
            "[CV] ................ C=10, gamma=0.001, kernel=sigmoid, total=   0.0s\n",
            "[CV] C=10, gamma=0.001, kernel=sigmoid ...............................\n",
            "[CV] ................ C=10, gamma=0.001, kernel=sigmoid, total=   0.0s\n",
            "[CV] C=100, gamma=1, kernel=rbf ......................................\n",
            "[CV] ....................... C=100, gamma=1, kernel=rbf, total=   0.1s\n",
            "[CV] C=100, gamma=1, kernel=rbf ......................................\n",
            "[CV] ....................... C=100, gamma=1, kernel=rbf, total=   0.1s\n",
            "[CV] C=100, gamma=1, kernel=rbf ......................................\n",
            "[CV] ....................... C=100, gamma=1, kernel=rbf, total=   0.1s\n",
            "[CV] C=100, gamma=1, kernel=rbf ......................................\n",
            "[CV] ....................... C=100, gamma=1, kernel=rbf, total=   0.1s\n",
            "[CV] C=100, gamma=1, kernel=rbf ......................................\n",
            "[CV] ....................... C=100, gamma=1, kernel=rbf, total=   0.1s\n",
            "[CV] C=100, gamma=1, kernel=sigmoid ..................................\n",
            "[CV] ................... C=100, gamma=1, kernel=sigmoid, total=   0.0s\n",
            "[CV] C=100, gamma=1, kernel=sigmoid ..................................\n",
            "[CV] ................... C=100, gamma=1, kernel=sigmoid, total=   0.0s\n",
            "[CV] C=100, gamma=1, kernel=sigmoid ..................................\n",
            "[CV] ................... C=100, gamma=1, kernel=sigmoid, total=   0.0s\n",
            "[CV] C=100, gamma=1, kernel=sigmoid ..................................\n",
            "[CV] ................... C=100, gamma=1, kernel=sigmoid, total=   0.0s\n",
            "[CV] C=100, gamma=1, kernel=sigmoid ..................................\n",
            "[CV] ................... C=100, gamma=1, kernel=sigmoid, total=   0.0s\n",
            "[CV] C=100, gamma=0.5, kernel=rbf ....................................\n",
            "[CV] ..................... C=100, gamma=0.5, kernel=rbf, total=   0.0s\n",
            "[CV] C=100, gamma=0.5, kernel=rbf ....................................\n",
            "[CV] ..................... C=100, gamma=0.5, kernel=rbf, total=   0.0s\n",
            "[CV] C=100, gamma=0.5, kernel=rbf ....................................\n",
            "[CV] ..................... C=100, gamma=0.5, kernel=rbf, total=   0.0s\n",
            "[CV] C=100, gamma=0.5, kernel=rbf ....................................\n",
            "[CV] ..................... C=100, gamma=0.5, kernel=rbf, total=   0.0s\n",
            "[CV] C=100, gamma=0.5, kernel=rbf ....................................\n",
            "[CV] ..................... C=100, gamma=0.5, kernel=rbf, total=   0.0s\n",
            "[CV] C=100, gamma=0.5, kernel=sigmoid ................................\n",
            "[CV] ................. C=100, gamma=0.5, kernel=sigmoid, total=   0.0s\n",
            "[CV] C=100, gamma=0.5, kernel=sigmoid ................................\n",
            "[CV] ................. C=100, gamma=0.5, kernel=sigmoid, total=   0.0s\n",
            "[CV] C=100, gamma=0.5, kernel=sigmoid ................................\n",
            "[CV] ................. C=100, gamma=0.5, kernel=sigmoid, total=   0.0s\n",
            "[CV] C=100, gamma=0.5, kernel=sigmoid ................................\n",
            "[CV] ................. C=100, gamma=0.5, kernel=sigmoid, total=   0.0s\n",
            "[CV] C=100, gamma=0.5, kernel=sigmoid ................................\n",
            "[CV] ................. C=100, gamma=0.5, kernel=sigmoid, total=   0.0s\n",
            "[CV] C=100, gamma=0.2, kernel=rbf ....................................\n",
            "[CV] ..................... C=100, gamma=0.2, kernel=rbf, total=   0.0s\n",
            "[CV] C=100, gamma=0.2, kernel=rbf ....................................\n",
            "[CV] ..................... C=100, gamma=0.2, kernel=rbf, total=   0.0s\n",
            "[CV] C=100, gamma=0.2, kernel=rbf ....................................\n",
            "[CV] ..................... C=100, gamma=0.2, kernel=rbf, total=   0.0s\n",
            "[CV] C=100, gamma=0.2, kernel=rbf ....................................\n",
            "[CV] ..................... C=100, gamma=0.2, kernel=rbf, total=   0.0s\n",
            "[CV] C=100, gamma=0.2, kernel=rbf ....................................\n",
            "[CV] ..................... C=100, gamma=0.2, kernel=rbf, total=   0.0s\n",
            "[CV] C=100, gamma=0.2, kernel=sigmoid ................................\n",
            "[CV] ................. C=100, gamma=0.2, kernel=sigmoid, total=   0.0s\n",
            "[CV] C=100, gamma=0.2, kernel=sigmoid ................................\n",
            "[CV] ................. C=100, gamma=0.2, kernel=sigmoid, total=   0.0s\n",
            "[CV] C=100, gamma=0.2, kernel=sigmoid ................................\n",
            "[CV] ................. C=100, gamma=0.2, kernel=sigmoid, total=   0.0s\n",
            "[CV] C=100, gamma=0.2, kernel=sigmoid ................................\n",
            "[CV] ................. C=100, gamma=0.2, kernel=sigmoid, total=   0.0s\n",
            "[CV] C=100, gamma=0.2, kernel=sigmoid ................................\n",
            "[CV] ................. C=100, gamma=0.2, kernel=sigmoid, total=   0.0s\n",
            "[CV] C=100, gamma=0.1, kernel=rbf ....................................\n",
            "[CV] ..................... C=100, gamma=0.1, kernel=rbf, total=   0.0s\n",
            "[CV] C=100, gamma=0.1, kernel=rbf ....................................\n",
            "[CV] ..................... C=100, gamma=0.1, kernel=rbf, total=   0.0s\n",
            "[CV] C=100, gamma=0.1, kernel=rbf ....................................\n",
            "[CV] ..................... C=100, gamma=0.1, kernel=rbf, total=   0.0s\n",
            "[CV] C=100, gamma=0.1, kernel=rbf ....................................\n",
            "[CV] ..................... C=100, gamma=0.1, kernel=rbf, total=   0.0s\n",
            "[CV] C=100, gamma=0.1, kernel=rbf ....................................\n",
            "[CV] ..................... C=100, gamma=0.1, kernel=rbf, total=   0.0s\n",
            "[CV] C=100, gamma=0.1, kernel=sigmoid ................................\n",
            "[CV] ................. C=100, gamma=0.1, kernel=sigmoid, total=   0.0s\n",
            "[CV] C=100, gamma=0.1, kernel=sigmoid ................................\n",
            "[CV] ................. C=100, gamma=0.1, kernel=sigmoid, total=   0.0s\n",
            "[CV] C=100, gamma=0.1, kernel=sigmoid ................................\n",
            "[CV] ................. C=100, gamma=0.1, kernel=sigmoid, total=   0.0s\n",
            "[CV] C=100, gamma=0.1, kernel=sigmoid ................................\n",
            "[CV] ................. C=100, gamma=0.1, kernel=sigmoid, total=   0.0s\n",
            "[CV] C=100, gamma=0.1, kernel=sigmoid ................................\n",
            "[CV] ................. C=100, gamma=0.1, kernel=sigmoid, total=   0.0s\n",
            "[CV] C=100, gamma=0.01, kernel=rbf ...................................\n",
            "[CV] .................... C=100, gamma=0.01, kernel=rbf, total=   0.0s\n",
            "[CV] C=100, gamma=0.01, kernel=rbf ...................................\n",
            "[CV] .................... C=100, gamma=0.01, kernel=rbf, total=   0.0s\n",
            "[CV] C=100, gamma=0.01, kernel=rbf ...................................\n",
            "[CV] .................... C=100, gamma=0.01, kernel=rbf, total=   0.0s\n",
            "[CV] C=100, gamma=0.01, kernel=rbf ...................................\n",
            "[CV] .................... C=100, gamma=0.01, kernel=rbf, total=   0.0s\n",
            "[CV] C=100, gamma=0.01, kernel=rbf ...................................\n",
            "[CV] .................... C=100, gamma=0.01, kernel=rbf, total=   0.0s\n",
            "[CV] C=100, gamma=0.01, kernel=sigmoid ...............................\n",
            "[CV] ................ C=100, gamma=0.01, kernel=sigmoid, total=   0.0s\n",
            "[CV] C=100, gamma=0.01, kernel=sigmoid ...............................\n",
            "[CV] ................ C=100, gamma=0.01, kernel=sigmoid, total=   0.0s\n",
            "[CV] C=100, gamma=0.01, kernel=sigmoid ...............................\n",
            "[CV] ................ C=100, gamma=0.01, kernel=sigmoid, total=   0.0s\n",
            "[CV] C=100, gamma=0.01, kernel=sigmoid ...............................\n",
            "[CV] ................ C=100, gamma=0.01, kernel=sigmoid, total=   0.0s\n",
            "[CV] C=100, gamma=0.01, kernel=sigmoid ...............................\n",
            "[CV] ................ C=100, gamma=0.01, kernel=sigmoid, total=   0.0s\n",
            "[CV] C=100, gamma=0.001, kernel=rbf ..................................\n",
            "[CV] ................... C=100, gamma=0.001, kernel=rbf, total=   0.0s\n",
            "[CV] C=100, gamma=0.001, kernel=rbf ..................................\n",
            "[CV] ................... C=100, gamma=0.001, kernel=rbf, total=   0.0s\n",
            "[CV] C=100, gamma=0.001, kernel=rbf ..................................\n",
            "[CV] ................... C=100, gamma=0.001, kernel=rbf, total=   0.0s\n",
            "[CV] C=100, gamma=0.001, kernel=rbf ..................................\n",
            "[CV] ................... C=100, gamma=0.001, kernel=rbf, total=   0.0s\n",
            "[CV] C=100, gamma=0.001, kernel=rbf ..................................\n",
            "[CV] ................... C=100, gamma=0.001, kernel=rbf, total=   0.0s\n",
            "[CV] C=100, gamma=0.001, kernel=sigmoid ..............................\n",
            "[CV] ............... C=100, gamma=0.001, kernel=sigmoid, total=   0.0s\n",
            "[CV] C=100, gamma=0.001, kernel=sigmoid ..............................\n",
            "[CV] ............... C=100, gamma=0.001, kernel=sigmoid, total=   0.0s\n",
            "[CV] C=100, gamma=0.001, kernel=sigmoid ..............................\n",
            "[CV] ............... C=100, gamma=0.001, kernel=sigmoid, total=   0.0s\n",
            "[CV] C=100, gamma=0.001, kernel=sigmoid ..............................\n",
            "[CV] ............... C=100, gamma=0.001, kernel=sigmoid, total=   0.0s\n",
            "[CV] C=100, gamma=0.001, kernel=sigmoid ..............................\n",
            "[CV] ............... C=100, gamma=0.001, kernel=sigmoid, total=   0.0s\n",
            "[CV] C=1, kernel=linear ..............................................\n",
            "[CV] ............................... C=1, kernel=linear, total=   0.0s\n",
            "[CV] C=1, kernel=linear ..............................................\n",
            "[CV] ............................... C=1, kernel=linear, total=   0.0s\n",
            "[CV] C=1, kernel=linear ..............................................\n",
            "[CV] ............................... C=1, kernel=linear, total=   0.0s\n",
            "[CV] C=1, kernel=linear ..............................................\n",
            "[CV] ............................... C=1, kernel=linear, total=   0.0s\n",
            "[CV] C=1, kernel=linear ..............................................\n",
            "[CV] ............................... C=1, kernel=linear, total=   0.0s\n",
            "[CV] C=10, kernel=linear .............................................\n",
            "[CV] .............................. C=10, kernel=linear, total=   0.0s\n",
            "[CV] C=10, kernel=linear .............................................\n",
            "[CV] .............................. C=10, kernel=linear, total=   0.0s\n",
            "[CV] C=10, kernel=linear .............................................\n",
            "[CV] .............................. C=10, kernel=linear, total=   0.0s\n",
            "[CV] C=10, kernel=linear .............................................\n",
            "[CV] .............................. C=10, kernel=linear, total=   0.0s\n",
            "[CV] C=10, kernel=linear .............................................\n",
            "[CV] .............................. C=10, kernel=linear, total=   0.0s\n",
            "[CV] C=100, kernel=linear ............................................\n",
            "[CV] ............................. C=100, kernel=linear, total=   0.0s\n",
            "[CV] C=100, kernel=linear ............................................\n",
            "[CV] ............................. C=100, kernel=linear, total=   0.0s\n",
            "[CV] C=100, kernel=linear ............................................\n",
            "[CV] ............................. C=100, kernel=linear, total=   0.0s\n",
            "[CV] C=100, kernel=linear ............................................\n",
            "[CV] ............................. C=100, kernel=linear, total=   0.0s\n",
            "[CV] C=100, kernel=linear ............................................\n",
            "[CV] ............................. C=100, kernel=linear, total=   0.0s\n",
            "[CV] C=1000, kernel=linear ...........................................\n",
            "[CV] ............................ C=1000, kernel=linear, total=   0.1s\n",
            "[CV] C=1000, kernel=linear ...........................................\n",
            "[CV] ............................ C=1000, kernel=linear, total=   0.2s\n",
            "[CV] C=1000, kernel=linear ...........................................\n",
            "[CV] ............................ C=1000, kernel=linear, total=   0.1s\n",
            "[CV] C=1000, kernel=linear ...........................................\n",
            "[CV] ............................ C=1000, kernel=linear, total=   0.1s\n",
            "[CV] C=1000, kernel=linear ...........................................\n",
            "[CV] ............................ C=1000, kernel=linear, total=   0.2s\n"
          ],
          "name": "stdout"
        },
        {
          "output_type": "stream",
          "text": [
            "[Parallel(n_jobs=1)]: Done 260 out of 260 | elapsed:    7.3s finished\n"
          ],
          "name": "stderr"
        },
        {
          "output_type": "execute_result",
          "data": {
            "text/plain": [
              "GridSearchCV(cv=5, error_score=nan,\n",
              "             estimator=SVC(C=1.0, break_ties=False, cache_size=200,\n",
              "                           class_weight=None, coef0=0.0,\n",
              "                           decision_function_shape='ovr', degree=3,\n",
              "                           gamma='scale', kernel='rbf', max_iter=-1,\n",
              "                           probability=False, random_state=None, shrinking=True,\n",
              "                           tol=0.001, verbose=False),\n",
              "             iid='deprecated', n_jobs=None,\n",
              "             param_grid=[{'C': [0.1, 1, 10, 100],\n",
              "                          'gamma': [1, 0.5, 0.2, 0.1, 0.01, 0.001],\n",
              "                          'kernel': ['rbf', 'sigmoid']},\n",
              "                         {'C': [1, 10, 100, 1000], 'kernel': ['linear']}],\n",
              "             pre_dispatch='2*n_jobs', refit=True, return_train_score=False,\n",
              "             scoring=None, verbose=2)"
            ]
          },
          "metadata": {
            "tags": []
          },
          "execution_count": 715
        }
      ]
    },
    {
      "cell_type": "code",
      "metadata": {
        "colab": {
          "base_uri": "https://localhost:8080/"
        },
        "id": "JGwuixXP9KkF",
        "outputId": "c974a11f-3d4c-4825-b34c-54a81497d198"
      },
      "source": [
        "print(\"Best estimators \" , grid.best_estimator_)\n",
        "print(\"Best parameters \", grid.best_params_)"
      ],
      "execution_count": 716,
      "outputs": [
        {
          "output_type": "stream",
          "text": [
            "Best estimators  SVC(C=100, break_ties=False, cache_size=200, class_weight=None, coef0=0.0,\n",
            "    decision_function_shape='ovr', degree=3, gamma=0.01, kernel='rbf',\n",
            "    max_iter=-1, probability=False, random_state=None, shrinking=True,\n",
            "    tol=0.001, verbose=False)\n",
            "Best parameters  {'C': 100, 'gamma': 0.01, 'kernel': 'rbf'}\n"
          ],
          "name": "stdout"
        }
      ]
    },
    {
      "cell_type": "code",
      "metadata": {
        "id": "EyGcvZb99dXS"
      },
      "source": [
        "\n",
        "grid_predictions = grid.predict(X_val)"
      ],
      "execution_count": 717,
      "outputs": []
    },
    {
      "cell_type": "code",
      "metadata": {
        "colab": {
          "base_uri": "https://localhost:8080/"
        },
        "id": "EN53nZ7h9kcr",
        "outputId": "57f3ad9a-241d-4e9c-e1ec-605db1001db0"
      },
      "source": [
        "print(\"Val accuracy \" , metrics.accuracy_score(y_val, grid_predictions))"
      ],
      "execution_count": 718,
      "outputs": [
        {
          "output_type": "stream",
          "text": [
            "Val accuracy  0.9764705882352941\n"
          ],
          "name": "stdout"
        }
      ]
    },
    {
      "cell_type": "code",
      "metadata": {
        "id": "79GjnA9d_Nfz"
      },
      "source": [
        "grid_predictions = grid.predict(X_test)"
      ],
      "execution_count": 719,
      "outputs": []
    },
    {
      "cell_type": "code",
      "metadata": {
        "colab": {
          "base_uri": "https://localhost:8080/"
        },
        "id": "MFesfcF6_RVV",
        "outputId": "aea0c531-f7f1-45d3-fccd-989b18a68b65"
      },
      "source": [
        "print(\"Accuracy\" , metrics.accuracy_score(y_test, grid_predictions))"
      ],
      "execution_count": 720,
      "outputs": [
        {
          "output_type": "stream",
          "text": [
            "Accuracy 0.9882005899705014\n"
          ],
          "name": "stdout"
        }
      ]
    },
    {
      "cell_type": "code",
      "metadata": {
        "id": "FDiVl9mbzj6D",
        "colab": {
          "base_uri": "https://localhost:8080/"
        },
        "outputId": "77d2a491-21c9-4785-f8cd-6471528ead8f"
      },
      "source": [
        "def get_leaf_features(photo):\n",
        "  fixed_size = tuple((256, 256))\n",
        "  names = ['mean_r','mean_g','mean_b','stddev_r','stddev_g','stddev_b', \\\n",
        "              'contrast','correlation','inverse_difference_moments','entropy']\n",
        "  df = pd.DataFrame([], columns=names)\n",
        "\n",
        "  img = cv2.imread(photo)\n",
        "  img = cv2.resize(img, fixed_size)\n",
        "\n",
        "  #Preprocessing\n",
        "  img = cv2.cvtColor(img, cv2.COLOR_BGR2RGB)\n",
        "  gs = cv2.cvtColor(img,cv2.COLOR_RGB2GRAY)\n",
        "  blur = cv2.GaussianBlur(gs, (25,25),0)\n",
        "  ret_otsu,im_bw_otsu = cv2.threshold(blur,0,255,cv2.THRESH_BINARY_INV+cv2.THRESH_OTSU)\n",
        "  kernel = np.ones((50,50),np.uint8)\n",
        "  closing = cv2.morphologyEx(im_bw_otsu, cv2.MORPH_CLOSE, kernel)\n",
        "\n",
        "  final_img = img\n",
        "\n",
        "  #get features\n",
        "  #Color features\n",
        "  red_channel = final_img[:,:,0]\n",
        "  green_channel = final_img[:,:,1]\n",
        "  blue_channel = final_img[:,:,2]\n",
        "  blue_channel[blue_channel == 255] = 0\n",
        "  green_channel[green_channel == 255] = 0\n",
        "  red_channel[red_channel == 255] = 0\n",
        "  \n",
        "  red_mean = np.mean(red_channel)\n",
        "  green_mean = np.mean(green_channel)\n",
        "  blue_mean = np.mean(blue_channel)\n",
        "  \n",
        "  red_std = np.std(red_channel)\n",
        "  green_std = np.std(green_channel)\n",
        "  blue_std = np.std(blue_channel)\n",
        "  \n",
        "  #Texture features\n",
        "  textures = mahotas.features.haralick(gs)\n",
        "  ht_mean = textures.mean(axis=0)\n",
        "  contrast = ht_mean[1]\n",
        "  correlation = ht_mean[2]\n",
        "  inverse_diff_moments = ht_mean[4]\n",
        "  entropy = ht_mean[8]\n",
        "  #write in csv\n",
        "\n",
        "  vector = [red_mean,green_mean,blue_mean,red_std,green_std,blue_std,\\\n",
        "            contrast,correlation,inverse_diff_moments,entropy ]\n",
        "  df_temp = pd.DataFrame([vector],columns=names)\n",
        "  df = df.append(df_temp)\n",
        "  return df\n",
        "\n",
        "path = \"Test\"\n",
        "files = os.listdir(path)\n",
        "\n",
        "for file in files:\n",
        "    photo = os.path.join(path,file)\n",
        "    #print(photo)\n",
        "    leaf_features = get_leaf_features(photo)\n",
        "    X= sc_X.transform(leaf_features)\n",
        "    if \"Healthy\" not in photo: \n",
        "      y = [1]\n",
        "    else:\n",
        "      y = [0];\n",
        "\n",
        "    y_pred = grid.predict(X)\n",
        "    print(photo, y, y_pred)\n",
        "  \n",
        "    #print(\"Accuracy\" , metrics.accuracy_score(y, y_pred ), y , y_pred)\n",
        "    print(\"----------\")\n"
      ],
      "execution_count": 721,
      "outputs": [
        {
          "output_type": "stream",
          "text": [
            "Test/Black_rot_1.JPG [1] [1]\n",
            "----------\n",
            "Test/Leaf_blight_2.JPG [1] [1]\n",
            "----------\n",
            "Test/Esca_1.JPG [1] [1]\n",
            "----------\n",
            "Test/Healthy_2.JPG [0] [0]\n",
            "----------\n",
            "Test/image (7).JPG [1] [1]\n",
            "----------\n",
            "Test/Healthy_1.JPG [0] [0]\n",
            "----------\n",
            "Test/image (1323).JPG [1] [1]\n",
            "----------\n",
            "Test/image (1174).JPG [1] [1]\n",
            "----------\n",
            "Test/Esca_2.JPG [1] [1]\n",
            "----------\n",
            "Test/Leaf_blight_1.JPG [1] [1]\n",
            "----------\n",
            "Test/Black_rot_2.JPG [1] [1]\n",
            "----------\n"
          ],
          "name": "stdout"
        }
      ]
    }
  ]
}